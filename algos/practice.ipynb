{
 "cells": [
  {
   "cell_type": "code",
   "execution_count": 20,
   "metadata": {},
   "outputs": [
    {
     "name": "stdout",
     "output_type": "stream",
     "text": [
      "1.0 1.0 1\n",
      "3.0 3.0 2\n",
      "6.0 6.0 3\n",
      "10.0 10.0 4\n",
      "15.0 15.0 5\n",
      "21.0 21.0 6\n",
      "28.0 28.0 7\n",
      "36.0 40.0 8\n"
     ]
    },
    {
     "data": {
      "text/plain": [
       "9"
      ]
     },
     "execution_count": 20,
     "metadata": {},
     "output_type": "execute_result"
    }
   ],
   "source": [
    "#find missing number from 1-n\n",
    "def findmiss(arr):\n",
    "    rg = len(arr)\n",
    "    for idx,x in enumerate(arr):\n",
    "        oursum = ((idx+1)*(idx+2))/2\n",
    "        actualsum=(arr[idx]*arr[idx+1]) / 2\n",
    "        print(oursum,actualsum, x)\n",
    "        if(oursum != actualsum):\n",
    "            return idx+2\n",
    "    return -1\n",
    "\n",
    "findmiss([1,2,3,4,5,6,7,8,10,11,12,14])"
   ]
  },
  {
   "cell_type": "code",
   "execution_count": 33,
   "metadata": {},
   "outputs": [
    {
     "name": "stdout",
     "output_type": "stream",
     "text": [
      "6\n"
     ]
    }
   ],
   "source": [
    "#rotated sorted array: [6,7,8,9,5,4,3,2,1]. means its rotated at 4. pivot is the index of teh  point at which we find the next element\n",
    "#less than the existing element .in this case pivot is 3 (index of 9) find this pivot point. after that divide array into 2 sub arrays at that pivot. so tht\n",
    "#both are in sorted order, then compare our element with both array borders and check in which array our element might be. and \n",
    "#perform binary search in that.\n",
    "\n",
    "def pivot(arr,low, high):\n",
    "    if high < low:\n",
    "        return -1\n",
    "    if high == low:\n",
    "        return low\n",
    "    mid = (high+low)//2\n",
    "    \n",
    "    if (mid < high and arr[mid]>arr[mid+1]):\n",
    "        return mid\n",
    "    if (mid >low and arr[mid] < arr[mid-1]):\n",
    "        return mid-1\n",
    "    if (arr[low] >= arr[mid]):\n",
    "        return pivot(arr,low,mid-1)\n",
    "    return pivot(arr,mid+1,high)   \n",
    "    \n",
    "print(pivot([4,5,6,7,8,9,3,2,1],0,8))"
   ]
  },
  {
   "cell_type": "code",
   "execution_count": 65,
   "metadata": {},
   "outputs": [
    {
     "name": "stdout",
     "output_type": "stream",
     "text": [
      "[1, 2, 12, 13, 15, 17, 26, 30, 38, 45]\n",
      "16.0\n"
     ]
    }
   ],
   "source": [
    "#2 sorted arrays of same size, merge and find median\n",
    "def mergemedian(ar):\n",
    "    if len(ar) >1 :\n",
    "        start = 0\n",
    "        end = len(ar)\n",
    "        mid = (start+end)//2\n",
    "        L = ar[:mid]\n",
    "        R = ar[mid:]\n",
    "        mergemedian(L)\n",
    "        mergemedian(R)\n",
    "        \n",
    "        i=j=k=0\n",
    "        while i<len(L) and j<len(R):\n",
    "            if L[i] < R[j]:\n",
    "                ar[k] = L[i]\n",
    "                i +=1\n",
    "            else:\n",
    "                ar[k] = R[j]\n",
    "                j += 1\n",
    "            k += 1\n",
    "        while i<len(L):\n",
    "            ar[k] = L[i]\n",
    "            i += 1\n",
    "            k += 1\n",
    "        while j < len(R):\n",
    "            ar[k] = R[j]\n",
    "            j += 1\n",
    "            k += 1\n",
    "    \n",
    "\n",
    "    \n",
    "ar1 = [1, 12, 15, 26,38] \n",
    "ar2 = [2, 13, 17, 30,45]\n",
    "ar1.extend(ar2)\n",
    "\n",
    "mergemedian(ar1)\n",
    "print(ar1)\n",
    "mid = len(ar1)//2\n",
    "if len(ar1) % 2 != 0 :\n",
    "    print(ar1[mid])\n",
    "else:\n",
    "    print((ar1[mid]+ar1[mid-1])/2)\n",
    "#print(ar1)"
   ]
  },
  {
   "cell_type": "code",
   "execution_count": 20,
   "metadata": {},
   "outputs": [
    {
     "data": {
      "text/plain": [
       "(85, -80)"
      ]
     },
     "execution_count": 20,
     "metadata": {},
     "output_type": "execute_result"
    }
   ],
   "source": [
    "# two elements whose sum is close to zero\n",
    "# close to zero can be either \n",
    "# a1 = min +ves\n",
    "# a2 = max +ve and max -ve\n",
    "# a3 = min -vs\n",
    "\n",
    "def minAbsSumPair(ar):\n",
    "    posarr = sorted([x for x in ar if x>0])\n",
    "    negarr = sorted([x for x in ar if x<0])\n",
    "    a1 = abs(posarr[0]+posarr[1])\n",
    "    a2 = abs(posarr[-1]+negarr[0])\n",
    "    a3 = abs(negarr[-1]+negarr[-2])\n",
    "    if a1<a2 and a1<a3:\n",
    "        return (posarr[0],posarr[1])\n",
    "    if a2<a1 and a2<a3:\n",
    "        return (posarr[-1],negarr[0])\n",
    "    if a3<a1 and a3<a2:\n",
    "        return (negarr[-1],negarr[-2])\n",
    "\n",
    "arr = [1, 60, -10, 70, -80, 85]\n",
    "minAbsSumPair(arr)"
   ]
  },
  {
   "cell_type": "code",
   "execution_count": 37,
   "metadata": {},
   "outputs": [
    {
     "name": "stdout",
     "output_type": "stream",
     "text": [
      "Counter({2: 1, 5: 1, 6: 1, 8: 1, -1: 1, 9999999: 1})\n",
      "[(2, 1), (5, 1), (6, 1), (8, 1), (-1, 1), (9999999, 1)]\n",
      "[2, 5, 6, 8, -1, 9999999]\n"
     ]
    }
   ],
   "source": [
    "#Sort elements by frequency | Set 1\n",
    "# less frequency comes first , if same frequency then print the one which came first\n",
    "from collections import Counter\n",
    "def sortfre(ar):\n",
    "    res=[]\n",
    "    ct = Counter(ar)\n",
    "    ct = sorted(ct.items(),key=lambda x : x[1],reverse=True)\n",
    "    print([x for x,y in ct])\n",
    "    \n",
    "sortfre({2, 5, 2, 6, -1, 9999999, 5, 8, 8, 8 })"
   ]
  },
  {
   "cell_type": "code",
   "execution_count": 2,
   "metadata": {},
   "outputs": [
    {
     "data": {
      "text/plain": [
       "'cb'"
      ]
     },
     "execution_count": 2,
     "metadata": {},
     "output_type": "execute_result"
    }
   ],
   "source": []
  },
  {
   "cell_type": "code",
   "execution_count": null,
   "metadata": {},
   "outputs": [],
   "source": []
  }
 ],
 "metadata": {
  "kernelspec": {
   "display_name": "Python 3",
   "language": "python",
   "name": "python3"
  },
  "language_info": {
   "codemirror_mode": {
    "name": "ipython",
    "version": 3
   },
   "file_extension": ".py",
   "mimetype": "text/x-python",
   "name": "python",
   "nbconvert_exporter": "python",
   "pygments_lexer": "ipython3",
   "version": "3.6.10"
  }
 },
 "nbformat": 4,
 "nbformat_minor": 4
}

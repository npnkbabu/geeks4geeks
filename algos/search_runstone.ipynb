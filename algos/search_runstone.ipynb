{
 "cells": [
  {
   "cell_type": "code",
   "execution_count": 6,
   "metadata": {},
   "outputs": [
    {
     "name": "stdout",
     "output_type": "stream",
     "text": [
      "1\n",
      "2\n",
      "3\n",
      "4\n",
      "5\n",
      "6\n",
      "7\n",
      "8\n"
     ]
    },
    {
     "data": {
      "text/plain": [
       "False"
      ]
     },
     "execution_count": 6,
     "metadata": {},
     "output_type": "execute_result"
    }
   ],
   "source": [
    "#sequential search\n",
    "def seq(arr,item):\n",
    "    count=0\n",
    "    for x in arr:\n",
    "        count += 1\n",
    "        print(count)\n",
    "        if x == item:\n",
    "            return True        \n",
    "    return False\n",
    "\n",
    "seq([1,2,3,4,5,6,8,9],7)"
   ]
  },
  {
   "cell_type": "code",
   "execution_count": 7,
   "metadata": {},
   "outputs": [
    {
     "name": "stdout",
     "output_type": "stream",
     "text": [
      "1\n",
      "2\n",
      "3\n",
      "4\n",
      "5\n",
      "6\n",
      "7\n"
     ]
    },
    {
     "data": {
      "text/plain": [
       "False"
      ]
     },
     "execution_count": 7,
     "metadata": {},
     "output_type": "execute_result"
    }
   ],
   "source": [
    "#ordered sequential search\n",
    "def seqordered(arr,item):\n",
    "    count = 0\n",
    "    for x in arr:\n",
    "        count += 1\n",
    "        print(count)\n",
    "        if x <= item:\n",
    "            if x == item:\n",
    "                return True\n",
    "        else:\n",
    "            return False\n",
    "seqordered([1,2,3,4,5,6,8,9],7)"
   ]
  },
  {
   "cell_type": "code",
   "execution_count": 16,
   "metadata": {},
   "outputs": [
    {
     "data": {
      "text/plain": [
       "False"
      ]
     },
     "execution_count": 16,
     "metadata": {},
     "output_type": "execute_result"
    }
   ],
   "source": [
    "# binary search\n",
    "def binarysearch(arr,item,start=0,end=0):\n",
    "    while(start <= end):\n",
    "        mid = (start + end) // 2\n",
    "        if arr[mid] == item:\n",
    "            return True\n",
    "        elif arr[mid] > item:\n",
    "            end = mid-1\n",
    "            binarysearch(arr,item,start,end)\n",
    "        else:\n",
    "            start = mid+1\n",
    "            binarysearch(arr,item,start,end)\n",
    "    return False\n",
    "\n",
    "binarysearch([1,2,3,5,6],4,0,5)\n",
    "            "
   ]
  },
  {
   "cell_type": "code",
   "execution_count": null,
   "metadata": {},
   "outputs": [],
   "source": []
  }
 ],
 "metadata": {
  "kernelspec": {
   "display_name": "Python 3",
   "language": "python",
   "name": "python3"
  },
  "language_info": {
   "codemirror_mode": {
    "name": "ipython",
    "version": 3
   },
   "file_extension": ".py",
   "mimetype": "text/x-python",
   "name": "python",
   "nbconvert_exporter": "python",
   "pygments_lexer": "ipython3",
   "version": "3.6.10"
  }
 },
 "nbformat": 4,
 "nbformat_minor": 4
}

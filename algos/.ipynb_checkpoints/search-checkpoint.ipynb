{
 "cells": [
  {
   "cell_type": "code",
   "execution_count": 2,
   "metadata": {},
   "outputs": [
    {
     "data": {
      "text/plain": [
       "True"
      ]
     },
     "execution_count": 2,
     "metadata": {},
     "output_type": "execute_result"
    }
   ],
   "source": [
    "#linear search with O(n) : we need to run through the complete list at max\n",
    "def linearsearch(num,arr):\n",
    "    for x in arr:\n",
    "        if x == num:\n",
    "            return True\n",
    "    else:\n",
    "        return False\n",
    "linearsearch(1,[2,3,1,5])"
   ]
  },
  {
   "cell_type": "code",
   "execution_count": 54,
   "metadata": {},
   "outputs": [
    {
     "name": "stdout",
     "output_type": "stream",
     "text": [
      "False\n"
     ]
    }
   ],
   "source": [
    "#binary search: need sorted arr, O(logn)\n",
    "\n",
    "def binarysearch(num,arr):\n",
    "    start = 0\n",
    "    end = len(arr)-1\n",
    "    found = False\n",
    "    while(not found and start<=end):\n",
    "        mid = (start+end)//2\n",
    "        if arr[mid] == num:\n",
    "            found = True\n",
    "        else:\n",
    "            if num > arr[mid]:\n",
    "                start = mid+1\n",
    "            else:\n",
    "                end = mid - 1\n",
    "    return found\n",
    "\n",
    "print(binarysearch(19,[5,6,7,8,9,10]))"
   ]
  },
  {
   "cell_type": "code",
   "execution_count": 61,
   "metadata": {},
   "outputs": [
    {
     "name": "stdout",
     "output_type": "stream",
     "text": [
      "False\n"
     ]
    }
   ],
   "source": [
    "# binaryserach recursive\n",
    "def binrec(num,arr,start,end):\n",
    "    mid = (start+end)//2\n",
    "    if arr[mid] == num:\n",
    "        return True\n",
    "    elif start <= end:\n",
    "        if num > arr[mid]:\n",
    "            start = mid+1\n",
    "            return binrec(num,arr,start,end)\n",
    "        else:\n",
    "            end = mid-1\n",
    "            return binrec(num,arr,start,end)\n",
    "    else:\n",
    "        return False\n",
    "        \n",
    "\n",
    "print(binrec(19,[5,6,7,8,9,10],0,5))"
   ]
  },
  {
   "cell_type": "code",
   "execution_count": 71,
   "metadata": {},
   "outputs": [
    {
     "name": "stdout",
     "output_type": "stream",
     "text": [
      "False\n"
     ]
    }
   ],
   "source": [
    "#jump search : its for sorted array. jump no. of block as m, 2m, 3m (block size m) and compare the element if you find the \n",
    "# element is in between xm-ym  then do linear search between xm to ym\n",
    "# ideal block size is sqrt(n) where n is length of arry\n",
    "#O(sqrt(n))\n",
    "\n",
    "def jumpsearch(num,arr):\n",
    "    prev=0\n",
    "    step = round(len(arr) ** 0.5)\n",
    "    while(num > arr[min(len(arr)-1,step)]):\n",
    "        prev = step\n",
    "        if prev >= len(arr):\n",
    "            return False\n",
    "        step += step\n",
    "    #found step and prev\n",
    "    for x in arr[prev:step+1]:\n",
    "        if x == num:\n",
    "            return True\n",
    "    return False\n",
    "\n",
    "print(jumpsearch(91,[5,6,7,8,9,10,11,26]))"
   ]
  },
  {
   "cell_type": "code",
   "execution_count": 90,
   "metadata": {},
   "outputs": [
    {
     "name": "stdout",
     "output_type": "stream",
     "text": [
      "False\n"
     ]
    }
   ],
   "source": [
    "#jump search in recursive\n",
    "def jumprec(num,arr,start,end,step,foundrange=False):\n",
    "    if(not foundrange) :\n",
    "        if num > arr[min(len(arr)-1,step)]:\n",
    "            prev = step\n",
    "            if prev >= len(arr)-1:\n",
    "                return False\n",
    "            step += step\n",
    "            return jumprec(num,arr,start,end,step)\n",
    "        else:\n",
    "            foundrange=True\n",
    "    if foundrange:\n",
    "        for x in arr[start:end+1]:\n",
    "            if x == num:\n",
    "                return True\n",
    "        return False\n",
    "        \n",
    "            \n",
    "\n",
    "print(jumprec(0,[5,6,7,8,9,10,11,26],0,7,round(7 ** 0.5)))"
   ]
  },
  {
   "cell_type": "code",
   "execution_count": null,
   "metadata": {},
   "outputs": [],
   "source": [
    "#interpolation search is alson like binary serach but in binary serach we divided the arr into half , but in interpolation\n",
    "# we probe the postion where to divide and search, start: start index, end : end index , arr: arr , Mid : pos to seach\n",
    "# probe formula : Mid = start +  normalize num with arr  * (end-star)\n",
    "# Mid = start +  (num-arr[start])/arr[end]-arr[start])   * (end-start)\n"
   ]
  }
 ],
 "metadata": {
  "kernelspec": {
   "display_name": "Python 3",
   "language": "python",
   "name": "python3"
  },
  "language_info": {
   "codemirror_mode": {
    "name": "ipython",
    "version": 3
   },
   "file_extension": ".py",
   "mimetype": "text/x-python",
   "name": "python",
   "nbconvert_exporter": "python",
   "pygments_lexer": "ipython3",
   "version": "3.6.10"
  }
 },
 "nbformat": 4,
 "nbformat_minor": 4
}

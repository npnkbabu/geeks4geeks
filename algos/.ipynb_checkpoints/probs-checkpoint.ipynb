{
 "cells": [
  {
   "cell_type": "code",
   "execution_count": 10,
   "metadata": {},
   "outputs": [],
   "source": [
    "from pythonds.basic import Stack"
   ]
  },
  {
   "cell_type": "code",
   "execution_count": 15,
   "metadata": {},
   "outputs": [
    {
     "data": {
      "text/plain": [
       "True"
      ]
     },
     "execution_count": 15,
     "metadata": {},
     "output_type": "execute_result"
    }
   ],
   "source": [
    "def parChecker(string):\n",
    "    st = Stack()\n",
    "    idx=0\n",
    "    balanced = True\n",
    "    while idx < len(string) and balanced:\n",
    "        s = string[idx]\n",
    "        if s == '(':\n",
    "            st.push(s)\n",
    "        else:\n",
    "            if st.isEmpty():\n",
    "                balanced = False\n",
    "            else:\n",
    "                st.pop()\n",
    "        idx += 1\n",
    "    if balanced and st.isEmpty():\n",
    "        return True\n",
    "    return False\n",
    "        \n",
    "\n",
    "parChecker('((()))')"
   ]
  },
  {
   "cell_type": "code",
   "execution_count": 36,
   "metadata": {},
   "outputs": [
    {
     "name": "stdout",
     "output_type": "stream",
     "text": [
      "1010\n",
      "1B\n"
     ]
    }
   ],
   "source": [
    "def dec2x(num,x):\n",
    "    st = Stack()\n",
    "    res = ''\n",
    "    digits = '0123456789ABCDEF'\n",
    "    while(num > 0):\n",
    "        st.push(num%x)\n",
    "        num = num//x\n",
    "    while(not st.isEmpty()):\n",
    "        if x == 16:\n",
    "            res += digits[st.pop()]\n",
    "        else:\n",
    "            res += str(st.pop())\n",
    "    return res\n",
    "\n",
    "print(dec2x(10,2))\n",
    "print(dec2x(27,16))"
   ]
  },
  {
   "cell_type": "code",
   "execution_count": 33,
   "metadata": {},
   "outputs": [
    {
     "name": "stdout",
     "output_type": "stream",
     "text": [
      "hi\n"
     ]
    }
   ],
   "source": [
    "#palindrom\n",
    "from collections import deque\n",
    "def isPalindrome(string):\n",
    "    print('hi')\n",
    "\n",
    "isPalindrome('radar')"
   ]
  },
  {
   "cell_type": "code",
   "execution_count": null,
   "metadata": {},
   "outputs": [],
   "source": []
  }
 ],
 "metadata": {
  "kernelspec": {
   "display_name": "Python 3",
   "language": "python",
   "name": "python3"
  },
  "language_info": {
   "codemirror_mode": {
    "name": "ipython",
    "version": 3
   },
   "file_extension": ".py",
   "mimetype": "text/x-python",
   "name": "python",
   "nbconvert_exporter": "python",
   "pygments_lexer": "ipython3",
   "version": "3.6.10"
  }
 },
 "nbformat": 4,
 "nbformat_minor": 4
}

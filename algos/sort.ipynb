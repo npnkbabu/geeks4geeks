{
 "cells": [
  {
   "cell_type": "code",
   "execution_count": 28,
   "metadata": {},
   "outputs": [
    {
     "name": "stdout",
     "output_type": "stream",
     "text": [
      "i--> 0\n",
      "0 2 1\n",
      "[1, 2, 5, 8, 4, 3]\n",
      "1 2 5\n",
      "2 5 8\n",
      "3 8 4\n",
      "[1, 2, 5, 4, 8, 3]\n",
      "4 8 3\n",
      "[1, 2, 5, 4, 3, 8]\n",
      "i--> 1\n",
      "1 2 5\n",
      "2 5 4\n",
      "[1, 2, 4, 5, 3, 8]\n",
      "3 5 3\n",
      "[1, 2, 4, 3, 5, 8]\n",
      "i--> 2\n",
      "2 4 3\n",
      "[1, 2, 3, 4, 5, 8]\n",
      "i--> 3\n",
      "i--> 4\n",
      "i--> 5\n",
      "[1, 2, 3, 4, 5, 8]\n"
     ]
    }
   ],
   "source": [
    "#bubble sort: compare adjecent items and swap according to that\n",
    "def bubblesort(arr):\n",
    "    n = len(arr)\n",
    "    for i in range(n):\n",
    "        print('i-->',i)\n",
    "        for j in range(i,n-i-1):\n",
    "            print(j,arr[j],arr[j+1])\n",
    "            if arr[j] > arr[j+1]:\n",
    "                arr[j],arr[j+1] = arr[j+1],arr[j]\n",
    "                print(arr)\n",
    "    print(arr)\n",
    "        \n",
    "\n",
    "bubblesort([2,1,5,8,4,3])"
   ]
  },
  {
   "cell_type": "code",
   "execution_count": 49,
   "metadata": {},
   "outputs": [
    {
     "name": "stdout",
     "output_type": "stream",
     "text": [
      "[1, 3, 5, 7, 8, 9]\n"
     ]
    }
   ],
   "source": [
    "#selection sort : it takes first index element and compares from next element and repeatedly does it and keep it  \n",
    "# at proper place. selecting elements. below we are finding the least element's index comparing from 0 index and exchanging it\n",
    "# means, you select the min index first and replace it\n",
    "def selsort(arr):\n",
    "    n = len(arr)\n",
    "    for i in range(n):\n",
    "        min_index = i\n",
    "        for j in range(i+1,n):\n",
    "            if arr[min_index]> arr[j]:\n",
    "                min_index = j\n",
    "        arr[min_index],arr[i] = arr[i],arr[min_index]\n",
    "    print(arr)\n",
    "        \n",
    "selsort([8,5,7,1,9,3])"
   ]
  },
  {
   "cell_type": "code",
   "execution_count": 52,
   "metadata": {},
   "outputs": [
    {
     "name": "stdout",
     "output_type": "stream",
     "text": [
      "[1, 2, 3, 4]\n"
     ]
    }
   ],
   "source": [
    "#insertion sort : compare starting element with all other elements and insert them immediately.\n",
    "# like cards, immediately shuffle\n",
    "\n",
    "def inssort(arr):\n",
    "    n = len(arr)\n",
    "    insertindex = 0\n",
    "    for i in range(1,n):\n",
    "        key = arr[i]\n",
    "        j = i-1\n",
    "        while(j>=0 and key < arr[j]):\n",
    "            arr[j+1] = arr[j]\n",
    "            j -= 1\n",
    "        arr[j+1] = key\n",
    "    print(arr)\n",
    "    \n",
    "inssort([4,2,1,3])\n",
    "            "
   ]
  },
  {
   "cell_type": "code",
   "execution_count": null,
   "metadata": {},
   "outputs": [],
   "source": []
  }
 ],
 "metadata": {
  "kernelspec": {
   "display_name": "Python 3",
   "language": "python",
   "name": "python3"
  },
  "language_info": {
   "codemirror_mode": {
    "name": "ipython",
    "version": 3
   },
   "file_extension": ".py",
   "mimetype": "text/x-python",
   "name": "python",
   "nbconvert_exporter": "python",
   "pygments_lexer": "ipython3",
   "version": "3.6.10"
  }
 },
 "nbformat": 4,
 "nbformat_minor": 4
}

{
 "cells": [
  {
   "cell_type": "code",
   "execution_count": 57,
   "metadata": {},
   "outputs": [
    {
     "name": "stdout",
     "output_type": "stream",
     "text": [
      "[15]\n",
      "[12, 15]\n",
      "[52]\n",
      "[3, 52]\n",
      "[3, 26, 52]\n"
     ]
    }
   ],
   "source": [
    "#merge sort\n",
    "#we divide the array into 2 halves (may be or may not be equal sizes) then again we divide those 2 into 4 like this we keep\n",
    "#on dividing untill we have only 1 element in array then sort adjecent pairs. O(nlogn)\n",
    "def mergesort(arr):\n",
    "    if len(arr) >1:\n",
    "        mid = len(arr)//2 # Finding the mid of the array \n",
    "        L = arr[:mid] # Dividing the array elements  \n",
    "        R = arr[mid:] # into 2 halves \n",
    "  \n",
    "        mergesort(L) # Sorting the first half \n",
    "        mergesort(R) # Sorting the second half \n",
    "        i=j=k=0\n",
    "        print(R)\n",
    "        while i<len(L) and j<len(R) :\n",
    "            if L[i] < R[j]:\n",
    "                arr[k] = L[i]\n",
    "                i += 1\n",
    "            else:\n",
    "                arr[k] = R[j]\n",
    "                j += 1\n",
    "            k += 1\n",
    "        \n",
    "        while i<len(L):\n",
    "            arr[k] = L[i]\n",
    "            i+=1\n",
    "            k+=1\n",
    "        while j<len(R):\n",
    "            arr[k] = R[j]\n",
    "            j+=1\n",
    "            k+=1\n",
    "        \n",
    "        \n",
    "    \n",
    "    \n",
    "ar = [1, 12, 15, 26, 3, 52] \n",
    "mergesort(ar)\n",
    "#print(ar)"
   ]
  },
  {
   "cell_type": "code",
   "execution_count": 76,
   "metadata": {},
   "outputs": [
    {
     "name": "stdout",
     "output_type": "stream",
     "text": [
      "[1, 3, 3, 5, 7, 9, 9]\n"
     ]
    }
   ],
   "source": [
    "#selection sort : its inplace sorting algo. means uses same input array to sort. actually it maintains 2 subarrays in \n",
    "#input array, one is sorted and another is need to be sorted. it continuously checks for minimum element in unsorted array\n",
    "# and put it into sorted subarray O(nsquare)\n",
    "\n",
    "def selectionsort(ar):\n",
    "    n = len(ar)\n",
    "    for i in range(n):\n",
    "        for j in range(i+1,n):\n",
    "            if ar[i]>ar[j]:\n",
    "                ar[i],ar[j] = ar[j],ar[i]\n",
    "\n",
    "ar = [1,5,3,9,9,3,7]\n",
    "selectionsort(ar)\n",
    "print(ar)"
   ]
  },
  {
   "cell_type": "code",
   "execution_count": 84,
   "metadata": {},
   "outputs": [
    {
     "name": "stdout",
     "output_type": "stream",
     "text": [
      "[1, 3, 3, 5, 7, 9, 9]\n"
     ]
    }
   ],
   "source": [
    "#bubble sort : same as selection sort but compare adjecent elements instead of comparing with entire array. per is O(nsquare)\n",
    "# stop the sort with flag when no swapping happend in loop. its also inplace sort algo\n",
    "\n",
    "def bubblesort(ar):\n",
    "    n = len(ar)\n",
    "    swapped = True\n",
    "    while(swapped):\n",
    "        swapped = False\n",
    "        for i in range(n-1):\n",
    "            if ar[i] > ar[i+1]:\n",
    "                ar[i],ar[i+1] = ar[i+1],ar[i]\n",
    "                swapped = True\n",
    "            \n",
    "    \n",
    "ar = [1,5,3,9,9,3,7]\n",
    "bubblesort(ar)\n",
    "print(ar)\n",
    "    "
   ]
  },
  {
   "cell_type": "code",
   "execution_count": 110,
   "metadata": {},
   "outputs": [
    {
     "name": "stdout",
     "output_type": "stream",
     "text": [
      "3 5\n",
      "3 9\n",
      "3 9\n",
      "3 5\n",
      "7 9\n",
      "7 9\n",
      "[1, 3, 3, 5, 7, 9, 9]\n"
     ]
    }
   ],
   "source": [
    "#insertion sort : O(nsquare) but its better than selection and bubble sorts because of no.of comparisions and swappings\n",
    "# done depends on data. we take seperate array. its not inplace sort\n",
    "def insertionsort(ar):\n",
    "    n=len(ar)\n",
    "    \n",
    "    for i in range(1,n):\n",
    "        key = ar[i]\n",
    "        j = i-1\n",
    "        while(key < ar[j] and j>=0):\n",
    "            ar[j+1] = ar[j]\n",
    "            j -= 1\n",
    "        ar[j+1] = key\n",
    "            \n",
    "    \n",
    "ar = [1,5,3,9,9,3,7]\n",
    "insertionsort(ar)\n",
    "print(ar)"
   ]
  },
  {
   "cell_type": "code",
   "execution_count": null,
   "metadata": {},
   "outputs": [],
   "source": []
  }
 ],
 "metadata": {
  "kernelspec": {
   "display_name": "Python 3",
   "language": "python",
   "name": "python3"
  },
  "language_info": {
   "codemirror_mode": {
    "name": "ipython",
    "version": 3
   },
   "file_extension": ".py",
   "mimetype": "text/x-python",
   "name": "python",
   "nbconvert_exporter": "python",
   "pygments_lexer": "ipython3",
   "version": "3.6.10"
  }
 },
 "nbformat": 4,
 "nbformat_minor": 4
}

{
 "cells": [
  {
   "cell_type": "code",
   "execution_count": 10,
   "metadata": {},
   "outputs": [],
   "source": [
    "from pythonds.basic import Stack"
   ]
  },
  {
   "cell_type": "code",
   "execution_count": 15,
   "metadata": {},
   "outputs": [
    {
     "data": {
      "text/plain": [
       "True"
      ]
     },
     "execution_count": 15,
     "metadata": {},
     "output_type": "execute_result"
    }
   ],
   "source": [
    "def parChecker(string):\n",
    "    st = Stack()\n",
    "    idx=0\n",
    "    balanced = True\n",
    "    while idx < len(string) and balanced:\n",
    "        s = string[idx]\n",
    "        if s == '(':\n",
    "            st.push(s)\n",
    "        else:\n",
    "            if st.isEmpty():\n",
    "                balanced = False\n",
    "            else:\n",
    "                st.pop()\n",
    "        idx += 1\n",
    "    if balanced and st.isEmpty():\n",
    "        return True\n",
    "    return False\n",
    "        \n",
    "\n",
    "parChecker('((()))')"
   ]
  },
  {
   "cell_type": "code",
   "execution_count": 36,
   "metadata": {},
   "outputs": [
    {
     "name": "stdout",
     "output_type": "stream",
     "text": [
      "1010\n",
      "1B\n"
     ]
    }
   ],
   "source": [
    "def dec2x(num,x):\n",
    "    st = Stack()\n",
    "    res = ''\n",
    "    digits = '0123456789ABCDEF'\n",
    "    while(num > 0):\n",
    "        st.push(num%x)\n",
    "        num = num//x\n",
    "    while(not st.isEmpty()):\n",
    "        if x == 16:\n",
    "            res += digits[st.pop()]\n",
    "        else:\n",
    "            res += str(st.pop())\n",
    "    return res\n",
    "\n",
    "print(dec2x(10,2))\n",
    "print(dec2x(27,16))"
   ]
  },
  {
   "cell_type": "code",
   "execution_count": 42,
   "metadata": {},
   "outputs": [
    {
     "data": {
      "text/plain": [
       "False"
      ]
     },
     "execution_count": 42,
     "metadata": {},
     "output_type": "execute_result"
    }
   ],
   "source": [
    "#palindrom\n",
    "def isPalindrome(string):\n",
    "    return string == string[::-1]\n",
    "\n",
    "isPalindrome('1radar')"
   ]
  },
  {
   "cell_type": "code",
   "execution_count": 75,
   "metadata": {},
   "outputs": [
    {
     "name": "stdout",
     "output_type": "stream",
     "text": [
      "5\n",
      "(5)-->(4)-->(3)-->(2)-->(1)-->\n",
      "(5)-->(4)-->(2)-->(1)-->\n"
     ]
    }
   ],
   "source": [
    "#linkded list implementation\n",
    "class Node:\n",
    "    def __init__(self,initdata):\n",
    "        self.data = initdata\n",
    "        self.next = None\n",
    "    def __str__(self):\n",
    "        return '({})-->'.format(self.data)\n",
    "\n",
    "class UnorderedList:\n",
    "    def __init__(self):\n",
    "        self.head = None\n",
    "    \n",
    "    def isEmpty(self):\n",
    "        return self.head == None\n",
    "    \n",
    "    def __str__(self):\n",
    "        ret = ''\n",
    "        if not self.isEmpty():\n",
    "            start = self.head\n",
    "            while(start != None):\n",
    "                ret += str(start)\n",
    "                start = start.next\n",
    "        return ret\n",
    "    def add(self,data):\n",
    "        node = Node(data)\n",
    "        if self.isEmpty():\n",
    "            self.head = node\n",
    "        else:\n",
    "            node.next = self.head\n",
    "            self.head = node\n",
    "        \n",
    "    def size(self):\n",
    "        count = 0\n",
    "        temp = self.head\n",
    "        while(temp):\n",
    "            count += 1\n",
    "            temp = temp.next\n",
    "        return count\n",
    "    \n",
    "    def search(self,item):\n",
    "        start = self.head\n",
    "        while(start):\n",
    "            if(start.data == item):\n",
    "                return True\n",
    "            else:\n",
    "                start = start.next\n",
    "        return False\n",
    "    \n",
    "    def remove(self,item):\n",
    "        current  = self.head\n",
    "        prev = None\n",
    "        while(current.data != item and current != None):\n",
    "            prev = current\n",
    "            current = current.next\n",
    "        if prev == None:\n",
    "            self.head = current.next\n",
    "        else:\n",
    "            prev.next = current.next\n",
    "\n",
    "lst = UnorderedList()\n",
    "lst.add(1)\n",
    "lst.add(2)\n",
    "lst.add(3)\n",
    "lst.add(4)\n",
    "lst.add(5)\n",
    "print(lst.size())\n",
    "print(lst)\n",
    "lst.search(3)\n",
    "lst.remove(3)\n",
    "print(lst)\n",
    "                \n"
   ]
  },
  {
   "cell_type": "code",
   "execution_count": 78,
   "metadata": {},
   "outputs": [
    {
     "data": {
      "text/plain": [
       "6"
      ]
     },
     "execution_count": 78,
     "metadata": {},
     "output_type": "execute_result"
    }
   ],
   "source": [
    "def sumrec(arr):\n",
    "    if (len(arr) == 1):\n",
    "        return arr[0]\n",
    "    else:\n",
    "        return arr[0] + sumrec(arr[1:])\n",
    "    \n",
    "sumrec([1,2,3])"
   ]
  },
  {
   "cell_type": "code",
   "execution_count": 88,
   "metadata": {},
   "outputs": [
    {
     "data": {
      "text/plain": [
       "'F'"
      ]
     },
     "execution_count": 88,
     "metadata": {},
     "output_type": "execute_result"
    }
   ],
   "source": [
    "def dec2xrec(num,x):\n",
    "    digits = '0123456789ABCDEF'\n",
    "    #define base case\n",
    "    if num < x:\n",
    "        return digits[num]\n",
    "    else:\n",
    "        return dec2xrec(num//x,x)+digits[num%x]\n",
    "\n",
    "dec2xrec(15,16)"
   ]
  },
  {
   "cell_type": "code",
   "execution_count": 97,
   "metadata": {},
   "outputs": [
    {
     "data": {
      "text/plain": [
       "'1100'"
      ]
     },
     "execution_count": 97,
     "metadata": {},
     "output_type": "execute_result"
    }
   ],
   "source": [
    "st = Stack()\n",
    "digits = '0123456789ABCDEF'\n",
    "\n",
    "def dec2xrecstack(num,x):\n",
    "\n",
    "    if num < x:\n",
    "        st.push(digits[num])\n",
    "    else:\n",
    "        st.push(dec2xrecstack(num//x,x)+digits[num%x])\n",
    "    \n",
    "    ret = ''\n",
    "    while(not st.isEmpty()):\n",
    "        ret = ret + str(st.pop())\n",
    "    return ret\n",
    "        \n",
    "    \n",
    "dec2xrecstack(12,2)"
   ]
  },
  {
   "cell_type": "code",
   "execution_count": 102,
   "metadata": {},
   "outputs": [],
   "source": [
    "import turtle\n",
    "import matplotlib.pyplot\n",
    "%matplotlib inline\n",
    "\n",
    "myturtle = turtle.Turtle()\n",
    "mywin = turtle.Screen()\n",
    "\n",
    "def drawSprial(turtle,linelength):\n",
    "    if linelength > 0 :\n",
    "        turtle.forward(linelength)\n",
    "        turtle.right(90)\n",
    "        drawSprial(turtle,linelength-5)\n",
    "\n",
    "drawSprial(myturtle,100)\n",
    "mywin.exitonclick()"
   ]
  },
  {
   "cell_type": "code",
   "execution_count": null,
   "metadata": {},
   "outputs": [],
   "source": []
  }
 ],
 "metadata": {
  "kernelspec": {
   "display_name": "Python 3",
   "language": "python",
   "name": "python3"
  },
  "language_info": {
   "codemirror_mode": {
    "name": "ipython",
    "version": 3
   },
   "file_extension": ".py",
   "mimetype": "text/x-python",
   "name": "python",
   "nbconvert_exporter": "python",
   "pygments_lexer": "ipython3",
   "version": "3.6.10"
  }
 },
 "nbformat": 4,
 "nbformat_minor": 4
}

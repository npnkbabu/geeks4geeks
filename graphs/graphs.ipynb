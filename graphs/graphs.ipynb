{
 "cells": [
  {
   "cell_type": "code",
   "execution_count": 12,
   "metadata": {},
   "outputs": [
    {
     "name": "stdout",
     "output_type": "stream",
     "text": [
      "3 3\n",
      "1\n",
      "b\n",
      "C\n"
     ]
    }
   ],
   "source": [
    "\n",
    "def showdiagnol(a):\n",
    "    rows=len(a)\n",
    "    columns = len(a[0])\n",
    "    row=col=0\n",
    "    while(row<rows and col < columns):\n",
    "        print(a[row][col])\n",
    "        row += 1\n",
    "        col += 1\n",
    "    \n",
    "a=[[1,2,3],['a','b','c'],['A','B','C']]\n",
    "showdiagnol(a)"
   ]
  },
  {
   "cell_type": "code",
   "execution_count": 33,
   "metadata": {},
   "outputs": [],
   "source": [
    "#graph implementation\n",
    "# we have 2 types, adjecency matrix and adjecency lists. here we are taking adjecency lists\n",
    "# means we have a list where each item is a linked list which reprsents a vertex and that contains links to all connected \n",
    "# vertices.\n",
    "# each vertex or not in graph is linked list. whose next point to graph itself. and graph is the last node added\n",
    "\n",
    "class AdjNode:\n",
    "    def __init__(self,data):\n",
    "        self.vertex = data\n",
    "        self.next = None\n",
    "\n",
    "class Graph:\n",
    "    def __init__(self,vertices):\n",
    "        self.V = vertices\n",
    "        self.graph = [None] * self.V\n",
    "        print(self.graph)\n",
    "        \n",
    "    def add_edge(self,src,dest):\n",
    "        #add source\n",
    "        #1. construct source node\n",
    "        node = AdjNode(src)\n",
    "        #2. point its net node to graph's dest\n",
    "        node.next = self.graph[dest]\n",
    "        #3. make graph's dest index is src node\n",
    "        self.graph[dest] = node\n",
    "        \n",
    "        #add dest\n",
    "        node = AdjNode(dest)\n",
    "        node.next = self.graph[src]\n",
    "        self.graph[src] = node\n",
    "        \n",
    "    def print_graph(self):\n",
    "        for i in range(self.V):\n",
    "            print('Adjecency list of vertext : {}\\n head'.format(i),end='')\n",
    "            \n",
    "            temp = self.graph[i]\n",
    "            while(temp):\n",
    "                print(' --> {}'.format(temp.vertex),end='')\n",
    "                temp = temp.next\n",
    "            print('\\n')\n",
    "                "
   ]
  },
  {
   "cell_type": "code",
   "execution_count": 34,
   "metadata": {},
   "outputs": [
    {
     "name": "stdout",
     "output_type": "stream",
     "text": [
      "[None, None, None, None, None]\n",
      "Adjecency list of vertext : 0\n",
      " head --> 4 --> 1\n",
      "\n",
      "Adjecency list of vertext : 1\n",
      " head --> 4 --> 3 --> 2 --> 0\n",
      "\n",
      "Adjecency list of vertext : 2\n",
      " head --> 3 --> 1\n",
      "\n",
      "Adjecency list of vertext : 3\n",
      " head --> 4 --> 2 --> 1\n",
      "\n",
      "Adjecency list of vertext : 4\n",
      " head --> 3 --> 1 --> 0\n",
      "\n"
     ]
    }
   ],
   "source": [
    "V = 5\n",
    "graph = Graph(V) \n",
    "graph.add_edge(0, 1) \n",
    "graph.add_edge(0, 4) \n",
    "\n",
    "graph.add_edge(1, 2) \n",
    "graph.add_edge(1, 3) \n",
    "graph.add_edge(1, 4) \n",
    "\n",
    "graph.add_edge(2, 3) \n",
    "\n",
    "\n",
    "graph.add_edge(3, 4) \n",
    "\n",
    "graph.print_graph()"
   ]
  },
  {
   "cell_type": "code",
   "execution_count": null,
   "metadata": {},
   "outputs": [],
   "source": []
  },
  {
   "cell_type": "code",
   "execution_count": null,
   "metadata": {},
   "outputs": [],
   "source": []
  }
 ],
 "metadata": {
  "kernelspec": {
   "display_name": "Python 3",
   "language": "python",
   "name": "python3"
  },
  "language_info": {
   "codemirror_mode": {
    "name": "ipython",
    "version": 3
   },
   "file_extension": ".py",
   "mimetype": "text/x-python",
   "name": "python",
   "nbconvert_exporter": "python",
   "pygments_lexer": "ipython3",
   "version": "3.6.10"
  }
 },
 "nbformat": 4,
 "nbformat_minor": 4
}

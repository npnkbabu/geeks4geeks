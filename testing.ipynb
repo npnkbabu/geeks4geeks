{
 "cells": [
  {
   "cell_type": "code",
   "execution_count": 24,
   "metadata": {},
   "outputs": [],
   "source": [
    "#use unittest\n",
    "import unittest\n",
    "class TestSamples(unittest.TestCase):\n",
    "    \n",
    "    def test_check_boolean(self):\n",
    "        self.assertTrue(1==2)\n",
    "\n",
    "    def test_compare_numbers(self):\n",
    "        self.assertEqual(2,2)\n",
    "\n",
    "    def test_compare_strings(self):\n",
    "        self.assertEqual(\"abc\", \"abc\")\n",
    "\n",
    "    def test_compare_arrays(self):\n",
    "        self.assertEqual([1,2,3],[1,2,3])\n"
   ]
  },
  {
   "cell_type": "code",
   "execution_count": 27,
   "metadata": {},
   "outputs": [
    {
     "name": "stderr",
     "output_type": "stream",
     "text": [
      "F...\n",
      "======================================================================\n",
      "FAIL: test_check_boolean (testing.TestSamples)\n",
      "----------------------------------------------------------------------\n",
      "Traceback (most recent call last):\n",
      "  File \"D:\\Kishore\\Projects\\GitHub\\python\\geeks4geeks\\testing.py\", line 5, in test_check_boolean\n",
      "    self.assertTrue(1==2)\n",
      "AssertionError: False is not true\n",
      "\n",
      "----------------------------------------------------------------------\n",
      "Ran 4 tests in 0.001s\n",
      "\n",
      "FAILED (failures=1)\n"
     ]
    }
   ],
   "source": [
    "!python -m unittest testing.py"
   ]
  },
  {
   "cell_type": "code",
   "execution_count": null,
   "metadata": {},
   "outputs": [],
   "source": []
  }
 ],
 "metadata": {
  "kernelspec": {
   "display_name": "Python 3",
   "language": "python",
   "name": "python3"
  },
  "language_info": {
   "codemirror_mode": {
    "name": "ipython",
    "version": 3
   },
   "file_extension": ".py",
   "mimetype": "text/x-python",
   "name": "python",
   "nbconvert_exporter": "python",
   "pygments_lexer": "ipython3",
   "version": "3.6.10"
  }
 },
 "nbformat": 4,
 "nbformat_minor": 4
}

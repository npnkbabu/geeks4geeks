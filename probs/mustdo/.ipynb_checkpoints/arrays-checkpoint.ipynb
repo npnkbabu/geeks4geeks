{
 "cells": [
  {
   "cell_type": "code",
   "execution_count": 24,
   "metadata": {},
   "outputs": [
    {
     "name": "stdout",
     "output_type": "stream",
     "text": [
      "checking with :15 from : 2\n",
      "2\n",
      "curr_sum : 17\n",
      "4\n",
      "curr_sum : 21\n",
      "8\n",
      "curr_sum : 29\n",
      "checking with :2 from : 4\n",
      "4\n",
      "curr_sum : 6\n",
      "8\n",
      "curr_sum : 14\n",
      "9\n",
      "curr_sum : 23\n",
      "5\n",
      "found from 2 to 9\n"
     ]
    },
    {
     "data": {
      "text/plain": [
       "1"
      ]
     },
     "execution_count": 24,
     "metadata": {},
     "output_type": "execute_result"
    }
   ],
   "source": [
    "#find summ in any subarray of arr. brute force appraoch is take each element in arr and loop through array from next \n",
    "# element to end by check its sum. so its O(n square ) in worst case\n",
    "def subArraySum(arr,n,summ):\n",
    "    for i in range(n-1):\n",
    "        curr_sum = arr[i]\n",
    "        print('checking with :{} from : {}'.format(arr[i],arr[i+1]))\n",
    "        j = i+1\n",
    "        while j < n and curr_sum <= summ:\n",
    "            print(arr[j])\n",
    "            if curr_sum == summ:\n",
    "                print('found from {} to {}'.format(arr[i],arr[j-1]))\n",
    "                return 1\n",
    "            elif curr_sum > summ:\n",
    "                break\n",
    "            curr_sum += arr[j]\n",
    "            print('curr_sum : {}'.format(curr_sum))\n",
    "            j +=1\n",
    "    return -1\n",
    "\n",
    "subArraySum([15, 2, 4, 8, 9, 5, 10, 23],8,23)"
   ]
  },
  {
   "cell_type": "code",
   "execution_count": 36,
   "metadata": {},
   "outputs": [
    {
     "name": "stdout",
     "output_type": "stream",
     "text": [
      "found between 2 and 9 \n"
     ]
    },
    {
     "data": {
      "text/plain": [
       "1"
      ]
     },
     "execution_count": 36,
     "metadata": {},
     "output_type": "execute_result"
    }
   ],
   "source": [
    "#efficient approach is to take the first element and   continuously add each element \n",
    "#if sum exceeds remove the first element\n",
    "# which we started with (pop the last index) . its becoz all elements are +ve so once sum got exceeded there is no point to add more (as no -ves)\n",
    "# O(n) as we move the array through only once by adding and removing.\n",
    "def subArraySumEff(arr,n,summ):\n",
    "    start = 0\n",
    "    curr_sum = arr[0]\n",
    "    i=1\n",
    "    while i < n:\n",
    "        while curr_sum > summ and start < i-1:\n",
    "            curr_sum -= arr[start]\n",
    "            start += 1\n",
    "        if curr_sum == summ:\n",
    "            print('found between {} and {} '.format(arr[start],arr[i-1]))\n",
    "            return 1\n",
    "        if i<n:\n",
    "            curr_sum += arr[i]\n",
    "        i += 1\n",
    "    return -1\n",
    "    \n",
    "\n",
    "subArraySumEff([15, 2, 4, 8, 9, 5, 10, 23],8,23)"
   ]
  },
  {
   "cell_type": "code",
   "execution_count": 55,
   "metadata": {},
   "outputs": [
    {
     "name": "stdout",
     "output_type": "stream",
     "text": [
      "curr_sum : 15\n",
      "{15: 0}\n",
      "curr_sum : 17\n",
      "{15: 0, 17: 1}\n",
      "curr_sum : 18\n",
      "{15: 0, 17: 1, 18: 2}\n",
      "curr_sum : 26\n",
      "{15: 0, 17: 1, 18: 2, 26: 3}\n",
      "curr_sum : 34\n",
      "{15: 0, 17: 1, 18: 2, 26: 3, 34: 4}\n",
      "curr_sum : 37\n",
      "{15: 0, 17: 1, 18: 2, 26: 3, 34: 4, 37: 5}\n",
      "curr_sum : 47\n",
      "{15: 0, 17: 1, 18: 2, 26: 3, 34: 4, 37: 5, 47: 6}\n",
      "curr_sum : 69\n",
      "{15: 0, 17: 1, 18: 2, 26: 3, 34: 4, 37: 5, 47: 6, 69: 7}\n"
     ]
    },
    {
     "data": {
      "text/plain": [
       "-1"
      ]
     },
     "execution_count": 55,
     "metadata": {},
     "output_type": "execute_result"
    }
   ],
   "source": [
    "#if the array contains -ves\n",
    "# store all sums of all upto indices in map. means key=sumvals and value=upto index and check for \n",
    "#current_sum - expectedsum in map. if you find that diff it means if you remove that diff you get exepected sum. and that \n",
    "# diff is coming from upto index which is value in map. so you desired index is map value + 1 to current index. O(n)\n",
    "def subArraySumNeg(arr,n,summ):\n",
    "    Map = {}\n",
    "    curr_sum=0\n",
    "    for i in range(n):\n",
    "        curr_sum += arr[i]\n",
    "        print('curr_sum : {}'.format(curr_sum))\n",
    "        if curr_sum == summ:\n",
    "            print('found from {} to {}'.format(arr[0],arr[i]))\n",
    "            return 1\n",
    "\n",
    "        elif (curr_sum - summ) in Map:\n",
    "            print('found in from {} to {}'.format(arr[Map[curr_sum-summ]+1],arr[i]))\n",
    "            return 1\n",
    "\n",
    "        Map[curr_sum] = i\n",
    "        print(Map)\n",
    "    return -1\n",
    "    \n",
    "subArraySumNeg([15, 2, 1, 8, 8, 3, 10, 22],8,23)"
   ]
  },
  {
   "cell_type": "code",
   "execution_count": 69,
   "metadata": {},
   "outputs": [
    {
     "name": "stdout",
     "output_type": "stream",
     "text": [
      "start : 0 , end : 2 , sum : 3\n",
      "start : 1 , end : 3 , sum : 5\n",
      "start : 2 , end : 4 , sum : 7\n",
      "from 2 to 3 \n"
     ]
    }
   ],
   "source": [
    "#sliding window technique for const subarray size \n",
    "# find subarray 2 with sum as 6 \n",
    "def sli(arr,subsize,subsum):\n",
    "    start = 0\n",
    "    summ = 0\n",
    "    n = len(arr)\n",
    "    while(start < n-subsize):\n",
    "        summ = 0\n",
    "        end = start + (subsize)\n",
    "        for i in range(start,end):\n",
    "            summ += arr[i]\n",
    "        print('start : {} , end : {} , sum : {}'.format(start,end,summ))\n",
    "        if summ == subsum:\n",
    "            print('from {} to {} '.format(start,end-1))\n",
    "            return\n",
    "        start = start+1\n",
    "    return -1\n",
    "        \n",
    "    \n",
    "sli([1,2,3,4,5],2,7)"
   ]
  },
  {
   "cell_type": "code",
   "execution_count": 88,
   "metadata": {},
   "outputs": [
    {
     "name": "stdout",
     "output_type": "stream",
     "text": [
      "start 0 , end 0\n",
      "1\n",
      "start 0 , end 1\n",
      "3\n",
      "start 0 , end 2\n",
      "6\n",
      "start 0 , end 3\n",
      "10\n",
      "start 0 , end 4\n",
      "15\n",
      "start 1 , end 4\n",
      "14\n",
      "start 2 , end 4\n",
      "12\n",
      "start 3 , end 4\n",
      "9\n"
     ]
    },
    {
     "data": {
      "text/plain": [
       "-1"
      ]
     },
     "execution_count": 88,
     "metadata": {},
     "output_type": "execute_result"
    }
   ],
   "source": [
    "# dynamic sliding window for sum x\n",
    "# sub array of sum x\n",
    "def subArrayx(arr,x):\n",
    "    start = 0\n",
    "    end =0\n",
    "    n = len(arr)\n",
    "    summ =0\n",
    "    while(start <= end and end < n):\n",
    "        summ =0\n",
    "        print('start {} , end {}'.format(start,end))\n",
    "        for i in range(start,end+1):\n",
    "            summ += arr[i]\n",
    "        print(summ)\n",
    "        if summ == x:\n",
    "            print('found {} to {}'.format(start,end))\n",
    "            return\n",
    "        elif summ > x:\n",
    "            start += 1\n",
    "        else:\n",
    "            end += 1\n",
    "    return -1\n",
    "\n",
    "subArrayx([1,2,3,4,5],9)"
   ]
  },
  {
   "cell_type": "code",
   "execution_count": 89,
   "metadata": {},
   "outputs": [],
   "source": [
    "\n",
    "arr=[-1,-4,0,5,3,2,1]\n",
    "x =5\n"
   ]
  },
  {
   "cell_type": "code",
   "execution_count": 136,
   "metadata": {},
   "outputs": [
    {
     "name": "stdout",
     "output_type": "stream",
     "text": [
      "from 4 to 5\n",
      "from 4 to 6\n",
      "from 4 to 7\n"
     ]
    }
   ],
   "source": [
    "#sliding window with flipping/swapping\n",
    "# you have 1s and 0s array, find sub array of max 1s, you can flip 0's to 1's max k times\n",
    "#brute force is to take each element and iterate through array untill you find <= k 0s\n",
    "def sliFlibrue(arr,k):\n",
    "    n = len(arr)\n",
    "    maxlen=0\n",
    "    for i in range(n):\n",
    "        start = i\n",
    "        count=0\n",
    "        for j in range(i,n-i):\n",
    "            while(count <=k):\n",
    "                if arr[j] == 0:\n",
    "                    count += 1\n",
    "                else:\n",
    "                    j += 1\n",
    "        if maxlen < (i-j):\n",
    "            print('from {} to {}'.format(j,i))\n",
    "            maxlen = (i-j)\n",
    "            \n",
    "\n",
    "sliFlibrue([0,1,0,1,0,0,1,1],2)"
   ]
  },
  {
   "cell_type": "code",
   "execution_count": 137,
   "metadata": {},
   "outputs": [
    {
     "name": "stdout",
     "output_type": "stream",
     "text": [
      "zerocount : 1, start : 0, end : 0\n",
      "zerocount : 1, start : 0, end : 1\n",
      "zerocount : 2, start : 0, end : 2\n",
      "zerocount : 2, start : 0, end : 3\n",
      "zerocount : 3, start : 0, end : 4\n",
      "zerocount : 3, start : 1, end : 5\n",
      "zerocount : 3, start : 2, end : 6\n",
      "zerocount : 2, start : 3, end : 7\n",
      "zerocount : 3, start : 3, end : 8\n",
      "from 4 to 8\n"
     ]
    }
   ],
   "source": [
    "#efficient approach: expand window untill you see <= k 0s . if > k then slide window by 1 step farward do it untill end\n",
    "def sliFliEff(arr,k):\n",
    "    n = len(arr)\n",
    "    start = 0\n",
    "    end = 0\n",
    "    zerocount = 0\n",
    "    \n",
    "    while(start <= end and end < n):\n",
    "        zerocount=0\n",
    "        for i in range(start,end+1):\n",
    "            if (arr[i] == 0):\n",
    "                zerocount += 1\n",
    "        print('zerocount : {}, start : {}, end : {}'.format(zerocount,start,end))\n",
    "        \n",
    "        while zerocount > k:\n",
    "            zerocount -= 1\n",
    "            start += 1\n",
    "        \n",
    "        end += 1\n",
    "    \n",
    "    print('from {} to {}'.format(start,end-1))\n",
    "\n",
    "sliFliEff([0,1,0,1,0,0,1,1,0],2)"
   ]
  },
  {
   "cell_type": "code",
   "execution_count": 169,
   "metadata": {},
   "outputs": [
    {
     "data": {
      "text/plain": [
       "'fa4chb'"
      ]
     },
     "execution_count": 169,
     "metadata": {},
     "output_type": "execute_result"
    }
   ],
   "source": [
    "#sliding window technique on strings.\n",
    "#given a string of n characters , find the shortest substring which has all desired chracters.\n",
    "#brute forces is to get all sustring combinations and check each combination for desired characters\n",
    "#O(n square)\n",
    "\n",
    "def sliStringBru(string,desi):\n",
    "    #generate all combinations of substring and check if it has all desired characters\n",
    "    n = len(string)\n",
    "    \n",
    "    for i in range(n):\n",
    "        temp = string[i]\n",
    "        for j in range(i+1,n):\n",
    "            temp += string[j]\n",
    "            ret = True\n",
    "            #check if temp contains all characters\n",
    "            for ch in desi:\n",
    "                ret *= ch in temp\n",
    "            if ret:\n",
    "                return temp\n",
    "        \n",
    "string = 'fa4chba4c'\n",
    "desi='abc'\n",
    "sliStringBru(string,desi)"
   ]
  },
  {
   "cell_type": "code",
   "execution_count": 183,
   "metadata": {},
   "outputs": [
    {
     "name": "stdout",
     "output_type": "stream",
     "text": [
      "1 1\n",
      "1 2\n",
      "2 3\n",
      "2 4\n",
      "3 5\n",
      "3 6\n",
      "from 3 to 6\n"
     ]
    }
   ],
   "source": [
    "#efficient way is to starting exapnding window untill you find all desired characters. if you find non-desi then slide\n",
    "#window and while sliding keep track of lost desi becoz of sliding \n",
    "def sliStringEff(string,desi):\n",
    "    start = 0\n",
    "    end = 0\n",
    "    gotdesi = [] # to keep all desired characters\n",
    "    n = len(string)\n",
    "    \n",
    "    while(start <= end and end < n):\n",
    "        # if all desi chs in gotdesi then return \n",
    "        ret = True\n",
    "        for x in desi:\n",
    "            ret *= x in gotdesi\n",
    "        if ret:\n",
    "            print('from {} to {}'.format( start,end))\n",
    "            return\n",
    "        ele = string[end]\n",
    "        \n",
    "        if ele in desi:\n",
    "            gotdesi.append(ele)\n",
    "        else:\n",
    "            start += 1\n",
    "        end += 1\n",
    "        print(start,end)\n",
    "\n",
    "string = 'fa4chba4c'\n",
    "desi='abc'\n",
    "sliStringEff(string,desi)"
   ]
  },
  {
   "cell_type": "code",
   "execution_count": 210,
   "metadata": {},
   "outputs": [
    {
     "name": "stdout",
     "output_type": "stream",
     "text": [
      "max_start : 0, max_end : 0, max_sum : 0\n",
      "max_start : 1, max_end : 1, max_sum : 2\n",
      "max_start : 1, max_end : 2, max_sum : 7\n",
      "max_start : 1, max_end : 2, max_sum : 7\n",
      "max_start : 1, max_end : 2, max_sum : 7\n",
      "max_start : 5, max_end : 5, max_sum : 8\n"
     ]
    }
   ],
   "source": [
    "#kadane's algo , to find max value subarrray. this algo is only used for max sum of subarray in array. logic is to expand\n",
    "# window and calculate curr_sum. for every index check the current_sum(included that index val) is > index element or not.\n",
    "# if its not that means you have -ve in current_sum so slide window untill that index and start expanding\n",
    "def kadaneMaxSum(arr):\n",
    "    start = 0\n",
    "    end = 0\n",
    "    max_sum = 0\n",
    "    cur_sum = 0\n",
    "    n = len(arr)\n",
    "    max_start=0\n",
    "    max_end = 0\n",
    "    while(start <= end and end < n):\n",
    "        cur_sum += arr[end]\n",
    "        if cur_sum < arr[end]:\n",
    "            start = end\n",
    "            end =  start\n",
    "            cur_sum = arr[end]\n",
    "        if cur_sum > max_sum:\n",
    "            max_sum = cur_sum\n",
    "            max_start = start\n",
    "            max_end = end\n",
    "        print('max_start : {}, max_end : {}, max_sum : {}'.format(max_start,max_end,max_sum))\n",
    "        end += 1\n",
    "\n",
    "kadaneMaxSum([-2,2,5,0,-11,8])"
   ]
  },
  {
   "cell_type": "code",
   "execution_count": 218,
   "metadata": {},
   "outputs": [
    {
     "name": "stdout",
     "output_type": "stream",
     "text": [
      "0 1 2\n",
      "[1, 5, 32]\n",
      "1 2 3\n",
      "[1, 7, 32]\n",
      "2 3 4\n",
      "[1, 7, 10]\n",
      "3 4 5\n",
      "[7, 10, 50]\n",
      "4 5 6\n",
      "[10, 19, 50]\n",
      "5 6 7\n",
      "[19, 21, 50]\n",
      "6 7 8\n",
      "[2, 19, 21]\n",
      "6 7 8\n"
     ]
    }
   ],
   "source": [
    "#Find a triplet such that sum of two equals to third element\n",
    "# sliding window of windo size 3 and check sum of 2 equal to 3rd one\n",
    "# sum equal to 3rd one is like take out max one and sum other 2. check they are equal or not\n",
    "# if you sort array initial then max index one is max\n",
    "\n",
    "def triplet(arr):\n",
    "    start = 0\n",
    "    end = 2\n",
    "    n = len(arr)\n",
    "    while(start <= end and end < n):\n",
    "        print(start,end-1,end)\n",
    "        arrsorted = sorted(arr[start:end+1])\n",
    "        print(arrsorted)\n",
    "        if arrsorted[2] == (arrsorted[0]+arrsorted[1]):\n",
    "            print(start,end-1,end)\n",
    "            return\n",
    "        else:\n",
    "            start += 1\n",
    "            end += 1\n",
    "\n",
    "        \n",
    "    \n",
    "triplet([5, 32, 1, 7, 10, 50, 19, 21, 2])"
   ]
  },
  {
   "cell_type": "code",
   "execution_count": 221,
   "metadata": {},
   "outputs": [
    {
     "name": "stdout",
     "output_type": "stream",
     "text": [
      "numbers are  21 2 19\n"
     ]
    }
   ],
   "source": [
    "def findTriplet(arr, n): \n",
    "      \n",
    "    # sort the array \n",
    "    arr.sort() \n",
    "   \n",
    "    # for every element in arr \n",
    "    # check if a pair exist(in array) whose \n",
    "    # sum is equal to arr element \n",
    "    i = n - 1\n",
    "    while(i >= 0): \n",
    "        j = 0\n",
    "        k = i - 1\n",
    "        while (j < k): \n",
    "            if (arr[i] == arr[j] + arr[k]): \n",
    "                 \n",
    "                # pair found \n",
    "                print (\"numbers are \", arr[i], arr[j], arr[k] )\n",
    "                return\n",
    "            elif (arr[i] > arr[j] + arr[k]): \n",
    "                j += 1\n",
    "            else: \n",
    "                k -= 1\n",
    "        i -= 1\n",
    "          \n",
    "    # no such triplet is found in array \n",
    "    print (\"No such triplet exists\")\n",
    "arr = [ 5, 32, 1, 7, 10, 50, 19, 21, 2 ] \n",
    "n = len(arr) \n",
    "findTriplet(arr, n)"
   ]
  },
  {
   "cell_type": "code",
   "execution_count": 228,
   "metadata": {},
   "outputs": [
    {
     "data": {
      "text/plain": [
       "4.0"
      ]
     },
     "execution_count": 228,
     "metadata": {},
     "output_type": "execute_result"
    }
   ],
   "source": [
    "#missing number from 1 to n\n",
    "def findmissing(arr):\n",
    "    n = len(arr)\n",
    "    return ( (n+1)*(n+2)/2) - sum(arr)\n",
    "\n",
    "findmissing([1,2,3,5])"
   ]
  },
  {
   "cell_type": "code",
   "execution_count": 235,
   "metadata": {},
   "outputs": [
    {
     "data": {
      "text/plain": [
       "4"
      ]
     },
     "execution_count": 235,
     "metadata": {},
     "output_type": "execute_result"
    }
   ],
   "source": [
    "#missing number : if range is huge we don't calculate sum. we take sums from array index and compare\n",
    "def findmissingEff(arr):\n",
    "    orgsum = 0\n",
    "    arrsum = 0\n",
    "    for idx,x in enumerate(arr):\n",
    "        orgsum += idx+1\n",
    "        arrsum += x\n",
    "        if orgsum != arrsum:\n",
    "            return idx+1\n",
    "\n",
    "findmissingEff([1,2,3,5])"
   ]
  },
  {
   "cell_type": "code",
   "execution_count": 244,
   "metadata": {},
   "outputs": [
    {
     "name": "stdout",
     "output_type": "stream",
     "text": [
      "[1, 2, 3, 4, 8, 9, 12, 13, None, None]\n"
     ]
    },
    {
     "data": {
      "text/plain": [
       "[1, 2, 3, 4, 8, 9, 12, 13, 15, 16]"
      ]
     },
     "execution_count": 244,
     "metadata": {},
     "output_type": "execute_result"
    }
   ],
   "source": [
    "#merge 2 sorted arrays\n",
    "#both arrays are sorted we need to result a single sorted array.\n",
    "#mergesort: cut array into smaller arrays of single item and compare one by one and insert\n",
    "# here we already have 2 smaller arrays so we can start merging, O(n1+n2) space O(n1+n2)\n",
    "def merge2arrs(arr1,arr2):\n",
    "    n1 = len(arr1)\n",
    "    n2 = len(arr2)\n",
    "    i=j=k=0\n",
    "    arr3 = [None] *  (n1 + n2)\n",
    "    \n",
    "    while i<n1 and j<n2:\n",
    "        if arr1[i] < arr2[j]:\n",
    "            arr3[k] = arr1[i]\n",
    "            i += 1\n",
    "        else:\n",
    "            arr3[k] = arr2[j]\n",
    "            j += 1\n",
    "        k += 1\n",
    "    print(arr3)\n",
    "        #remaining elements\n",
    "    while i<n1:\n",
    "        arr3[k] = arr1[i]\n",
    "        i += 1\n",
    "        k += 1\n",
    "    while j<n2:\n",
    "        arr3[k] = arr2[j]\n",
    "        j += 1\n",
    "        k += 1\n",
    "                \n",
    "    return arr3\n",
    "    \n",
    "merge2arrs([2,3,8,13],[1,4,9,12,15,16])"
   ]
  },
  {
   "cell_type": "code",
   "execution_count": 37,
   "metadata": {},
   "outputs": [
    {
     "name": "stdout",
     "output_type": "stream",
     "text": [
      "[7, 1, 6, 2, 5, 3, 4]\n"
     ]
    }
   ],
   "source": [
    "#Rearrange an array in maximum minimum form | Set 1\n",
    "# we have a sorted array , we need to arrange it in such a way that max,min, max1,min1,..\n",
    "def rearMaxMin(arr):\n",
    "    n = len(arr)\n",
    "    res=n * [None]\n",
    "    half = n//2\n",
    "    flag = True\n",
    "    smallidx = 0\n",
    "    largeidx = n-1\n",
    "    for i in range(n):\n",
    "        if flag: # copy largest\n",
    "            res[i] = arr[largeidx]\n",
    "            largeidx -=1\n",
    "        else:\n",
    "            res[i] = arr[smallidx]\n",
    "            smallidx +=1\n",
    "        flag = bool(1-flag)\n",
    "    print(res)\n",
    "        \n",
    "        \n",
    "        \n",
    "\n",
    "rearMaxMin([1, 2, 3, 4, 5, 6, 7])"
   ]
  },
  {
   "cell_type": "code",
   "execution_count": 49,
   "metadata": {},
   "outputs": [
    {
     "name": "stdout",
     "output_type": "stream",
     "text": [
      "2\n"
     ]
    }
   ],
   "source": [
    "#Count Inversions in an array | Set 1 (Using Merge Sort)\n",
    "#switches count in sorting\n",
    "def invCountBru(arr):\n",
    "    n = len(arr)\n",
    "    count = 0\n",
    "    for i in range(n):\n",
    "        for j in range (i+1,n):\n",
    "            if arr[i] > arr[j]:\n",
    "                arr[i],arr[j] = arr[j],arr[i]\n",
    "                count += 1\n",
    "    print(count)\n",
    "\n",
    "invCount([3, 1, 2])"
   ]
  },
  {
   "cell_type": "code",
   "execution_count": 51,
   "metadata": {},
   "outputs": [
    {
     "name": "stdout",
     "output_type": "stream",
     "text": [
      "hi\n"
     ]
    }
   ],
   "source": [
    "def mergeSort(arr,n):\n",
    "    temp = n * [0]\n",
    "    return mergeSort()\n",
    "    \n",
    "def invCountMerg(arr):\n",
    "    print('hi')\n",
    "\n",
    "invCountMerg([3,2,1])"
   ]
  },
  {
   "cell_type": "code",
   "execution_count": 74,
   "metadata": {},
   "outputs": [
    {
     "name": "stdout",
     "output_type": "stream",
     "text": [
      "2\n"
     ]
    }
   ],
   "source": [
    "def gcd(a,b): \n",
    "    if(b==0): \n",
    "        return a\n",
    "    else: \n",
    "        return gcdcount(b,a%b)\n",
    "a=10\n",
    "b=15\n",
    "mx = gcdcount(a,b)\n",
    "count = 1\n",
    "mx -=1\n",
    "while(mx>0):\n",
    "    if a%mx== 0 and b%mx == 0:\n",
    "        count += 1\n",
    "    mx -= 1\n",
    "print(count)\n",
    "    \n",
    "        \n",
    "        \n",
    "    "
   ]
  },
  {
   "cell_type": "code",
   "execution_count": 98,
   "metadata": {},
   "outputs": [
    {
     "data": {
      "text/plain": [
       "5"
      ]
     },
     "execution_count": 98,
     "metadata": {},
     "output_type": "execute_result"
    }
   ],
   "source": [
    "def computeGCD(x, y):\n",
    "    while(y): \n",
    "        x, y = y, x % y \n",
    "    return x\n",
    "computeGCD(10,15)"
   ]
  },
  {
   "cell_type": "code",
   "execution_count": 87,
   "metadata": {},
   "outputs": [
    {
     "data": {
      "text/plain": [
       "4"
      ]
     },
     "execution_count": 87,
     "metadata": {},
     "output_type": "execute_result"
    }
   ],
   "source": [
    "def sumupdate(arr,n):\n",
    "    if n == 0 :\n",
    "        return 0\n",
    "    sm = sum(arr)\n",
    "    y = ((sm//n) + 1)\n",
    "    count=1\n",
    "    while(y not in arr and count<n):\n",
    "        y += 1\n",
    "        count +=1\n",
    "    return y\n",
    "\n",
    "sumupdate([1,2,3,4,5],5)"
   ]
  },
  {
   "cell_type": "code",
   "execution_count": 4,
   "metadata": {},
   "outputs": [
    {
     "data": {
      "text/plain": [
       "[0, 0, 1, 1, 2, 2]"
      ]
     },
     "execution_count": 4,
     "metadata": {},
     "output_type": "execute_result"
    }
   ],
   "source": [
    "#Sort an array of 0s, 1s and 2s\n",
    "def sortarr(arr):\n",
    "    n = len(arr)\n",
    "    for i in range(n):\n",
    "        for j in range(i+1,n):\n",
    "            if arr[i]>arr[j]:\n",
    "                arr[i],arr[j]= arr[j],arr[i]\n",
    "    return arr\n",
    "\n",
    "#dutch national flag algo: think as 3 gropus and check each element in middle group if and segreate\n",
    "def sort012(arr):\n",
    "    n = len(arr)\n",
    "    low=0\n",
    "    mid=0\n",
    "    high=n-1\n",
    "    while(mid<=high):\n",
    "        if arr[mid] == 0:\n",
    "            arr[mid],arr[low] = arr[low],arr[mid]\n",
    "            low += 1\n",
    "            mid += 1\n",
    "        elif arr[mid] == 2:\n",
    "            arr[high],arr[mid] = arr[mid],arr[high]\n",
    "            high -= 1\n",
    "        else:\n",
    "            mid += 1\n",
    "    return arr\n",
    "        \n",
    "    \n",
    "sort012([1,2,0,2,0,1])"
   ]
  },
  {
   "cell_type": "code",
   "execution_count": 10,
   "metadata": {},
   "outputs": [
    {
     "data": {
      "text/plain": [
       "3"
      ]
     },
     "execution_count": 10,
     "metadata": {},
     "output_type": "execute_result"
    }
   ],
   "source": [
    "#Equilibrium index of an array: sum of lowebound = sum of upperbound\n",
    "# trick is \n",
    "def Equili(arr):\n",
    "    total_sum = sum(arr)\n",
    "    left_sum = 0\n",
    "    n = len(arr)\n",
    "    for i in range(n):\n",
    "        total_sum -= arr[i]\n",
    "        if left_sum == total_sum:\n",
    "            return i\n",
    "        left_sum += arr[i]\n",
    "    \n",
    "Equili([-7, 1, 5, 2, -4, 3, 0])"
   ]
  },
  {
   "cell_type": "code",
   "execution_count": 25,
   "metadata": {},
   "outputs": [
    {
     "name": "stdout",
     "output_type": "stream",
     "text": [
      "1 2 4 "
     ]
    }
   ],
   "source": [
    "#Finding ‘k’ such that its modulus with each array element is same\n",
    "#arr[0] % k = arr[1] % k = ....... = arr[n-1] % k \n",
    "\n",
    "#1. these ks should be in between max-min divisors. so take all divisors of max-min\n",
    "def getDiv(arr):\n",
    "    d = max(arr)-min(arr)\n",
    "    v = []\n",
    "    i = 1; \n",
    "    while (i * i <= d):  \n",
    "        if (d % i == 0):  \n",
    "                v.append(i); \n",
    "                if (i != d / i): \n",
    "                    v.append(d / i); \n",
    "        i += 1\n",
    "    return v\n",
    "\n",
    "def getKs(arr):\n",
    "    v = getDiv(arr)\n",
    "    n = len(arr)\n",
    "    for i in range(len(v)):  \n",
    "        temp = arr[0] % v[i]  \n",
    "      \n",
    "        # checking for each array element if  \n",
    "        # its modulus with k is equal to k or not  \n",
    "        j = 1\n",
    "        while (j < n):  \n",
    "            if (arr[j] % v[i] != temp):  \n",
    "                break; \n",
    "            j += 1\n",
    "  \n",
    "        # if check is true print v[i]  \n",
    "        if (j == n):  \n",
    "            print(v[i], end = \" \")\n",
    "\n",
    "getKs([38, 6, 34])"
   ]
  },
  {
   "cell_type": "code",
   "execution_count": null,
   "metadata": {},
   "outputs": [],
   "source": []
  }
 ],
 "metadata": {
  "kernelspec": {
   "display_name": "Python 3",
   "language": "python",
   "name": "python3"
  },
  "language_info": {
   "codemirror_mode": {
    "name": "ipython",
    "version": 3
   },
   "file_extension": ".py",
   "mimetype": "text/x-python",
   "name": "python",
   "nbconvert_exporter": "python",
   "pygments_lexer": "ipython3",
   "version": "3.6.10"
  }
 },
 "nbformat": 4,
 "nbformat_minor": 4
}

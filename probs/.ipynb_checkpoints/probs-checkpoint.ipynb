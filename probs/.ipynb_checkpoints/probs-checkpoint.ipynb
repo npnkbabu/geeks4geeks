{
 "cells": [
  {
   "cell_type": "code",
   "execution_count": 25,
   "metadata": {},
   "outputs": [],
   "source": [
    "#sieve of eratosthenes : its used to generte primes untill n. \n",
    "#1. generate numbers from 2-n\n",
    "#2. take 2 and mark all numbers which are > 2square and multiples of 2\n",
    "#3. check for next unmarked number after 2, that is 3 do the same for 3\n",
    "#4. check for next unmarked. continue untill n. \n",
    "#5. now all unmarked numbers in list are primes\n",
    "\n",
    "def getprimes(n):\n",
    "    nums = set(range(2,n+1))\n",
    "    for x in nums:\n",
    "        nums = nums-(set([y for y in nums if y%x==0 and y>=x**2]))\n",
    "    return nums"
   ]
  },
  {
   "cell_type": "code",
   "execution_count": 36,
   "metadata": {},
   "outputs": [
    {
     "name": "stdout",
     "output_type": "stream",
     "text": [
      "{2, 3, 5, 7, 11, 13, 17, 19, 23}\n",
      "5\n"
     ]
    }
   ],
   "source": [
    "#minimum changes required to make the array as prime.\n",
    "arr = {4, 25, 13, 6, 20}\n",
    "#sieve of eratosthenes\n",
    "maxnum = max(arr)\n",
    "#generate primes untill maxnum\n",
    "primes = getprimes(maxnum)\n",
    "print(primes)\n",
    "mindiff = sum([min([abs(x-y) for y in primes if x>=y]) for x in arr])\n",
    "print(mindiff)\n",
    "    "
   ]
  },
  {
   "cell_type": "code",
   "execution_count": 44,
   "metadata": {},
   "outputs": [
    {
     "name": "stdout",
     "output_type": "stream",
     "text": [
      "10.0\n",
      "15.0\n",
      "20.0\n",
      "25.0\n",
      "30.0\n",
      "35.0\n"
     ]
    }
   ],
   "source": [
    "#Average of a stream of numbers\n",
    "def avgstream(arr):\n",
    "    for idx,x in enumerate(arr):\n",
    "        arr1 = sum(arr[:idx+1])/(idx+1)\n",
    "        print(arr1)\n",
    "\n",
    "avgstream([10, 20, 30, 40, 50, 60])"
   ]
  },
  {
   "cell_type": "code",
   "execution_count": 54,
   "metadata": {},
   "outputs": [
    {
     "name": "stdout",
     "output_type": "stream",
     "text": [
      "[1, 2, 4, 5, 6, 7, 8, 9, 10]\n"
     ]
    }
   ],
   "source": [
    "#Count numbers that don’t contain 3\n",
    "def nothrees(n):\n",
    "    return [x for x in  range(1,n+1) if '3' not in str(x)]\n",
    "\n",
    "print(nothrees(10))"
   ]
  },
  {
   "cell_type": "code",
   "execution_count": 73,
   "metadata": {},
   "outputs": [
    {
     "ename": "RecursionError",
     "evalue": "maximum recursion depth exceeded in comparison",
     "output_type": "error",
     "traceback": [
      "\u001b[1;31m---------------------------------------------------------------------------\u001b[0m",
      "\u001b[1;31mRecursionError\u001b[0m                            Traceback (most recent call last)",
      "\u001b[1;32m<ipython-input-73-f057265f4241>\u001b[0m in \u001b[0;36m<module>\u001b[1;34m\u001b[0m\n\u001b[0;32m     26\u001b[0m \u001b[1;33m\u001b[0m\u001b[0m\n\u001b[0;32m     27\u001b[0m \u001b[1;33m\u001b[0m\u001b[0m\n\u001b[1;32m---> 28\u001b[1;33m \u001b[0mprint\u001b[0m\u001b[1;33m(\u001b[0m\u001b[0mnothree\u001b[0m\u001b[1;33m(\u001b[0m\u001b[1;36m578\u001b[0m\u001b[1;33m)\u001b[0m\u001b[1;33m)\u001b[0m\u001b[1;33m\u001b[0m\u001b[1;33m\u001b[0m\u001b[0m\n\u001b[0m",
      "\u001b[1;32m<ipython-input-73-f057265f4241>\u001b[0m in \u001b[0;36mnothree\u001b[1;34m(n)\u001b[0m\n\u001b[0;32m     23\u001b[0m             \u001b[1;32mreturn\u001b[0m \u001b[0mnothree\u001b[0m\u001b[1;33m(\u001b[0m\u001b[0mmsd\u001b[0m\u001b[1;33m*\u001b[0m\u001b[1;33m(\u001b[0m\u001b[0mpo\u001b[0m\u001b[1;33m-\u001b[0m\u001b[1;36m1\u001b[0m\u001b[1;33m)\u001b[0m\u001b[1;33m)\u001b[0m\u001b[1;33m\u001b[0m\u001b[1;33m\u001b[0m\u001b[0m\n\u001b[0;32m     24\u001b[0m         \u001b[1;32melse\u001b[0m\u001b[1;33m:\u001b[0m\u001b[1;33m\u001b[0m\u001b[1;33m\u001b[0m\u001b[0m\n\u001b[1;32m---> 25\u001b[1;33m             \u001b[1;32mreturn\u001b[0m \u001b[0mnothree\u001b[0m\u001b[1;33m(\u001b[0m\u001b[0mmsd\u001b[0m\u001b[1;33m)\u001b[0m\u001b[1;33m*\u001b[0m \u001b[0mnothree\u001b[0m\u001b[1;33m(\u001b[0m\u001b[0mpo\u001b[0m\u001b[1;33m-\u001b[0m\u001b[1;36m1\u001b[0m\u001b[1;33m)\u001b[0m \u001b[1;33m+\u001b[0m \u001b[0mnothree\u001b[0m\u001b[1;33m(\u001b[0m\u001b[0mmsd\u001b[0m\u001b[1;33m)\u001b[0m\u001b[1;33m+\u001b[0m\u001b[0mnothree\u001b[0m\u001b[1;33m(\u001b[0m\u001b[0mn\u001b[0m\u001b[1;33m%\u001b[0m\u001b[0mpo\u001b[0m\u001b[1;33m)\u001b[0m\u001b[1;33m\u001b[0m\u001b[1;33m\u001b[0m\u001b[0m\n\u001b[0m\u001b[0;32m     26\u001b[0m \u001b[1;33m\u001b[0m\u001b[0m\n\u001b[0;32m     27\u001b[0m \u001b[1;33m\u001b[0m\u001b[0m\n",
      "... last 1 frames repeated, from the frame below ...\n",
      "\u001b[1;32m<ipython-input-73-f057265f4241>\u001b[0m in \u001b[0;36mnothree\u001b[1;34m(n)\u001b[0m\n\u001b[0;32m     23\u001b[0m             \u001b[1;32mreturn\u001b[0m \u001b[0mnothree\u001b[0m\u001b[1;33m(\u001b[0m\u001b[0mmsd\u001b[0m\u001b[1;33m*\u001b[0m\u001b[1;33m(\u001b[0m\u001b[0mpo\u001b[0m\u001b[1;33m-\u001b[0m\u001b[1;36m1\u001b[0m\u001b[1;33m)\u001b[0m\u001b[1;33m)\u001b[0m\u001b[1;33m\u001b[0m\u001b[1;33m\u001b[0m\u001b[0m\n\u001b[0;32m     24\u001b[0m         \u001b[1;32melse\u001b[0m\u001b[1;33m:\u001b[0m\u001b[1;33m\u001b[0m\u001b[1;33m\u001b[0m\u001b[0m\n\u001b[1;32m---> 25\u001b[1;33m             \u001b[1;32mreturn\u001b[0m \u001b[0mnothree\u001b[0m\u001b[1;33m(\u001b[0m\u001b[0mmsd\u001b[0m\u001b[1;33m)\u001b[0m\u001b[1;33m*\u001b[0m \u001b[0mnothree\u001b[0m\u001b[1;33m(\u001b[0m\u001b[0mpo\u001b[0m\u001b[1;33m-\u001b[0m\u001b[1;36m1\u001b[0m\u001b[1;33m)\u001b[0m \u001b[1;33m+\u001b[0m \u001b[0mnothree\u001b[0m\u001b[1;33m(\u001b[0m\u001b[0mmsd\u001b[0m\u001b[1;33m)\u001b[0m\u001b[1;33m+\u001b[0m\u001b[0mnothree\u001b[0m\u001b[1;33m(\u001b[0m\u001b[0mn\u001b[0m\u001b[1;33m%\u001b[0m\u001b[0mpo\u001b[0m\u001b[1;33m)\u001b[0m\u001b[1;33m\u001b[0m\u001b[1;33m\u001b[0m\u001b[0m\n\u001b[0m\u001b[0;32m     26\u001b[0m \u001b[1;33m\u001b[0m\u001b[0m\n\u001b[0;32m     27\u001b[0m \u001b[1;33m\u001b[0m\u001b[0m\n",
      "\u001b[1;31mRecursionError\u001b[0m: maximum recursion depth exceeded in comparison"
     ]
    }
   ],
   "source": [
    "#Count numbers that don’t contain 3\n",
    "#the above one is brue force. below is using actual formual\n",
    "# n is no.of digits, po: 10s of num like 100 for 578 num, 1000 for 8768. msd : main fist digit as 5 for 578, count is the function\n",
    "# for this calculation\n",
    "# if msd ==3 then count(num) = count(3 * (pol -1))\n",
    "# if msd !=3 then count(num) = count(msd) *  count(pol-1) + count(msd)+count(n%pol)\n",
    "\n",
    "def nothree(n):\n",
    "    msd = 0 \n",
    "    po = 1\n",
    "    \n",
    "    if n<3:\n",
    "        return n\n",
    "    elif n>3 and n<=10:\n",
    "        return n-1\n",
    "    else:\n",
    "        while n/po > 9:\n",
    "            po= po*10\n",
    "        \n",
    "        msd = n/po\n",
    "        \n",
    "        if msd==3:\n",
    "            return nothree(msd*(po-1))\n",
    "        else:\n",
    "            return nothree(msd)* nothree(po-1) + nothree(msd)+nothree(n%po)\n",
    "        \n",
    "\n",
    "print(nothree(578))"
   ]
  },
  {
   "cell_type": "code",
   "execution_count": 74,
   "metadata": {},
   "outputs": [
    {
     "ename": "RecursionError",
     "evalue": "maximum recursion depth exceeded in comparison",
     "output_type": "error",
     "traceback": [
      "\u001b[1;31m---------------------------------------------------------------------------\u001b[0m",
      "\u001b[1;31mRecursionError\u001b[0m                            Traceback (most recent call last)",
      "\u001b[1;32m<ipython-input-74-2630a710c0ee>\u001b[0m in \u001b[0;36m<module>\u001b[1;34m\u001b[0m\n\u001b[0;32m     24\u001b[0m         \u001b[1;32mreturn\u001b[0m \u001b[0mcount\u001b[0m\u001b[1;33m(\u001b[0m\u001b[0mmsd\u001b[0m \u001b[1;33m*\u001b[0m \u001b[0mpo\u001b[0m \u001b[1;33m-\u001b[0m \u001b[1;36m1\u001b[0m\u001b[1;33m)\u001b[0m\u001b[1;33m\u001b[0m\u001b[1;33m\u001b[0m\u001b[0m\n\u001b[0;32m     25\u001b[0m \u001b[1;33m\u001b[0m\u001b[0m\n\u001b[1;32m---> 26\u001b[1;33m \u001b[0mprint\u001b[0m\u001b[1;33m(\u001b[0m\u001b[0mcount\u001b[0m\u001b[1;33m(\u001b[0m\u001b[1;36m578\u001b[0m\u001b[1;33m)\u001b[0m\u001b[1;33m)\u001b[0m\u001b[1;33m\u001b[0m\u001b[1;33m\u001b[0m\u001b[0m\n\u001b[0m",
      "\u001b[1;32m<ipython-input-74-2630a710c0ee>\u001b[0m in \u001b[0;36mcount\u001b[1;34m(n)\u001b[0m\n\u001b[0;32m     19\u001b[0m     \u001b[1;32mif\u001b[0m \u001b[0mmsd\u001b[0m \u001b[1;33m!=\u001b[0m \u001b[1;36m3\u001b[0m\u001b[1;33m:\u001b[0m\u001b[1;33m\u001b[0m\u001b[1;33m\u001b[0m\u001b[0m\n\u001b[0;32m     20\u001b[0m         \u001b[1;31m# For 578, total will be 4*count(10^2 - 1) + 4 + ccount(78)\u001b[0m\u001b[1;33m\u001b[0m\u001b[1;33m\u001b[0m\u001b[1;33m\u001b[0m\u001b[0m\n\u001b[1;32m---> 21\u001b[1;33m         \u001b[1;32mreturn\u001b[0m \u001b[0mcount\u001b[0m\u001b[1;33m(\u001b[0m\u001b[0mmsd\u001b[0m\u001b[1;33m)\u001b[0m \u001b[1;33m*\u001b[0m \u001b[0mcount\u001b[0m\u001b[1;33m(\u001b[0m\u001b[0mpo\u001b[0m\u001b[1;33m-\u001b[0m\u001b[1;36m1\u001b[0m\u001b[1;33m)\u001b[0m \u001b[1;33m+\u001b[0m \u001b[0mcount\u001b[0m\u001b[1;33m(\u001b[0m\u001b[0mmsd\u001b[0m\u001b[1;33m)\u001b[0m \u001b[1;33m+\u001b[0m \u001b[0mcount\u001b[0m\u001b[1;33m(\u001b[0m\u001b[0mn\u001b[0m\u001b[1;33m%\u001b[0m\u001b[0mpo\u001b[0m\u001b[1;33m)\u001b[0m\u001b[1;33m\u001b[0m\u001b[1;33m\u001b[0m\u001b[0m\n\u001b[0m\u001b[0;32m     22\u001b[0m     \u001b[1;32melse\u001b[0m\u001b[1;33m:\u001b[0m\u001b[1;33m\u001b[0m\u001b[1;33m\u001b[0m\u001b[0m\n\u001b[0;32m     23\u001b[0m         \u001b[1;31m# For 35 total will be equal to count(29)\u001b[0m\u001b[1;33m\u001b[0m\u001b[1;33m\u001b[0m\u001b[1;33m\u001b[0m\u001b[0m\n",
      "... last 1 frames repeated, from the frame below ...\n",
      "\u001b[1;32m<ipython-input-74-2630a710c0ee>\u001b[0m in \u001b[0;36mcount\u001b[1;34m(n)\u001b[0m\n\u001b[0;32m     19\u001b[0m     \u001b[1;32mif\u001b[0m \u001b[0mmsd\u001b[0m \u001b[1;33m!=\u001b[0m \u001b[1;36m3\u001b[0m\u001b[1;33m:\u001b[0m\u001b[1;33m\u001b[0m\u001b[1;33m\u001b[0m\u001b[0m\n\u001b[0;32m     20\u001b[0m         \u001b[1;31m# For 578, total will be 4*count(10^2 - 1) + 4 + ccount(78)\u001b[0m\u001b[1;33m\u001b[0m\u001b[1;33m\u001b[0m\u001b[1;33m\u001b[0m\u001b[0m\n\u001b[1;32m---> 21\u001b[1;33m         \u001b[1;32mreturn\u001b[0m \u001b[0mcount\u001b[0m\u001b[1;33m(\u001b[0m\u001b[0mmsd\u001b[0m\u001b[1;33m)\u001b[0m \u001b[1;33m*\u001b[0m \u001b[0mcount\u001b[0m\u001b[1;33m(\u001b[0m\u001b[0mpo\u001b[0m\u001b[1;33m-\u001b[0m\u001b[1;36m1\u001b[0m\u001b[1;33m)\u001b[0m \u001b[1;33m+\u001b[0m \u001b[0mcount\u001b[0m\u001b[1;33m(\u001b[0m\u001b[0mmsd\u001b[0m\u001b[1;33m)\u001b[0m \u001b[1;33m+\u001b[0m \u001b[0mcount\u001b[0m\u001b[1;33m(\u001b[0m\u001b[0mn\u001b[0m\u001b[1;33m%\u001b[0m\u001b[0mpo\u001b[0m\u001b[1;33m)\u001b[0m\u001b[1;33m\u001b[0m\u001b[1;33m\u001b[0m\u001b[0m\n\u001b[0m\u001b[0;32m     22\u001b[0m     \u001b[1;32melse\u001b[0m\u001b[1;33m:\u001b[0m\u001b[1;33m\u001b[0m\u001b[1;33m\u001b[0m\u001b[0m\n\u001b[0;32m     23\u001b[0m         \u001b[1;31m# For 35 total will be equal to count(29)\u001b[0m\u001b[1;33m\u001b[0m\u001b[1;33m\u001b[0m\u001b[1;33m\u001b[0m\u001b[0m\n",
      "\u001b[1;31mRecursionError\u001b[0m: maximum recursion depth exceeded in comparison"
     ]
    }
   ],
   "source": [
    "def count(n): \n",
    "      \n",
    "    # Base Cases ( n is not negative) \n",
    "    if n < 3: \n",
    "        return n \n",
    "    elif n >= 3 and n < 10: \n",
    "        return n-1\n",
    "          \n",
    "    # Calculate 10^(d-1) ( 10 raise to the power d-1 ) where d \n",
    "    # is number of digits in n. po will be 100 for n = 578 \n",
    "      \n",
    "    po = 1\n",
    "    while n/po > 9: \n",
    "        po = po * 10\n",
    "      \n",
    "    # Find the MSD ( msd is 5 for 578 ) \n",
    "    msd = n/po \n",
    "      \n",
    "    if msd != 3: \n",
    "        # For 578, total will be 4*count(10^2 - 1) + 4 + ccount(78) \n",
    "        return count(msd) * count(po-1) + count(msd) + count(n%po) \n",
    "    else: \n",
    "        # For 35 total will be equal to count(29) \n",
    "        return count(msd * po - 1)\n",
    "\n",
    "print(count(578))"
   ]
  },
  {
   "cell_type": "code",
   "execution_count": 119,
   "metadata": {},
   "outputs": [
    {
     "name": "stdout",
     "output_type": "stream",
     "text": [
      "[1, 2, 4, 8, 16, 32]\n",
      "1\n",
      "[0]\n",
      "2\n",
      "[1]\n",
      "3\n",
      "[0, 1]\n",
      "4\n",
      "[2]\n",
      "5\n",
      "[0, 2]\n",
      "6\n",
      "[1, 2]\n",
      "7\n",
      "[0, 1, 2]\n",
      "8\n",
      "[3]\n",
      "9\n",
      "[0, 3]\n",
      "10\n",
      "[1, 3]\n",
      "11\n",
      "[0, 1, 3]\n",
      "12\n",
      "[2, 3]\n",
      "13\n",
      "[0, 2, 3]\n",
      "14\n",
      "[1, 2, 3]\n",
      "15\n",
      "[0, 1, 2, 3]\n",
      "16\n",
      "[4]\n",
      "17\n",
      "[0, 4]\n",
      "18\n",
      "[1, 4]\n",
      "19\n",
      "[0, 1, 4]\n",
      "20\n",
      "[2, 4]\n",
      "21\n",
      "[0, 2, 4]\n",
      "22\n",
      "[1, 2, 4]\n",
      "23\n",
      "[0, 1, 2, 4]\n",
      "24\n",
      "[3, 4]\n",
      "25\n",
      "[0, 3, 4]\n",
      "26\n",
      "[1, 3, 4]\n",
      "27\n",
      "[0, 1, 3, 4]\n",
      "28\n",
      "[2, 3, 4]\n",
      "29\n",
      "[0, 2, 3, 4]\n",
      "30\n",
      "[1, 2, 3, 4]\n",
      "31\n",
      "[0, 1, 2, 3, 4]\n",
      "32\n",
      "[5]\n",
      "33\n",
      "[0, 5]\n",
      "34\n",
      "[1, 5]\n",
      "35\n",
      "[0, 1, 5]\n",
      "36\n",
      "[2, 5]\n",
      "37\n",
      "[0, 2, 5]\n",
      "38\n",
      "[1, 2, 5]\n",
      "39\n",
      "[0, 1, 2, 5]\n",
      "40\n",
      "[3, 5]\n",
      "41\n",
      "[0, 3, 5]\n",
      "42\n",
      "[1, 3, 5]\n",
      "43\n",
      "[0, 1, 3, 5]\n",
      "44\n",
      "[2, 3, 5]\n",
      "45\n",
      "[0, 2, 3, 5]\n",
      "46\n",
      "[1, 2, 3, 5]\n",
      "47\n",
      "[0, 1, 2, 3, 5]\n",
      "48\n",
      "[4, 5]\n",
      "49\n",
      "[0, 4, 5]\n",
      "50\n",
      "[1, 4, 5]\n",
      "51\n",
      "[0, 1, 4, 5]\n",
      "52\n",
      "[2, 4, 5]\n",
      "53\n",
      "[0, 2, 4, 5]\n",
      "54\n",
      "[1, 2, 4, 5]\n",
      "55\n",
      "[0, 1, 2, 4, 5]\n",
      "56\n",
      "[3, 4, 5]\n",
      "57\n",
      "[0, 3, 4, 5]\n",
      "58\n",
      "[1, 3, 4, 5]\n",
      "59\n",
      "[0, 1, 3, 4, 5]\n",
      "60\n",
      "[2, 3, 4, 5]\n",
      "61\n",
      "[0, 2, 3, 4, 5]\n",
      "62\n",
      "[1, 2, 3, 4, 5]\n",
      "63\n",
      "[0, 1, 2, 3, 4, 5]\n"
     ]
    }
   ],
   "source": [
    "#Perfect Sum Problem\n",
    "#Given an array arr[] of integers and an integer K, the task is to print all subsets of \n",
    "#the given array with the sum equal to the given target K.\n",
    "#use power set concept. generate sets of all combinations. power set size = 2 power(no.of elements in input)\n",
    "\n",
    "def perfsum(s,k):\n",
    "    x = len(s)\n",
    "    masks = [1 << i for i in range(x)]\n",
    "    print(masks)\n",
    "    for i in range(1,(1 << x) ):\n",
    "        print(i)\n",
    "        #print ([s[j] for j in range(x) ])\n",
    "        print (s[j] for j in range(x) if (i & (1 << j))])\n",
    "    \n",
    "    \n",
    "arr = [5, 10, 12, 13, 15, 18]\n",
    "k = 30\n",
    "perfsum(arr,k)\n",
    "    "
   ]
  },
  {
   "cell_type": "code",
   "execution_count": 122,
   "metadata": {},
   "outputs": [
    {
     "name": "stdout",
     "output_type": "stream",
     "text": [
      "[1]\n",
      "[2]\n",
      "[1, 2]\n",
      "[3]\n",
      "[1, 3]\n",
      "[2, 3]\n",
      "[1, 2, 3]\n",
      "[4]\n",
      "[1, 4]\n",
      "[2, 4]\n",
      "[1, 2, 4]\n",
      "[3, 4]\n",
      "[1, 3, 4]\n",
      "[2, 3, 4]\n",
      "[1, 2, 3, 4]\n"
     ]
    }
   ],
   "source": [
    "arr=[1,2,3,4]\n",
    "j = len(arr)\n",
    "for x in range(1,2 ** len(arr)):\n",
    "    print([arr[idx] for idx in range(j) if x & (1 << idx)])"
   ]
  },
  {
   "cell_type": "code",
   "execution_count": null,
   "metadata": {},
   "outputs": [],
   "source": []
  }
 ],
 "metadata": {
  "kernelspec": {
   "display_name": "Python 3",
   "language": "python",
   "name": "python3"
  },
  "language_info": {
   "codemirror_mode": {
    "name": "ipython",
    "version": 3
   },
   "file_extension": ".py",
   "mimetype": "text/x-python",
   "name": "python",
   "nbconvert_exporter": "python",
   "pygments_lexer": "ipython3",
   "version": "3.6.10"
  }
 },
 "nbformat": 4,
 "nbformat_minor": 4
}

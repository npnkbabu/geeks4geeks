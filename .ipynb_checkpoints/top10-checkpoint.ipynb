{
 "cells": [
  {
   "cell_type": "code",
   "execution_count": 1,
   "metadata": {},
   "outputs": [],
   "source": [
    "#https://towardsdatascience.com/10-algorithms-to-solve-before-your-python-coding-interview-feb74fb9bc27"
   ]
  },
  {
   "cell_type": "code",
   "execution_count": 23,
   "metadata": {},
   "outputs": [
    {
     "name": "stdout",
     "output_type": "stream",
     "text": [
      "-132\n"
     ]
    }
   ],
   "source": [
    "#reverse integer\n",
    "# Given an integer, return the integer with reversed digits.\n",
    "# Note: The integer could be either positive or negative.\n",
    "num=-231\n",
    "rev = str(num)[::-1]\n",
    "if rev.endswith('-') | rev.endswith('+'):\n",
    "    rev = rev[-1]+rev[:-1]\n",
    "print(rev)"
   ]
  },
  {
   "cell_type": "code",
   "execution_count": 25,
   "metadata": {},
   "outputs": [
    {
     "data": {
      "text/plain": [
       "4.076923076923077"
      ]
     },
     "execution_count": 25,
     "metadata": {},
     "output_type": "execute_result"
    }
   ],
   "source": [
    "# For a given sentence, return the average word length. \n",
    "# Note: Remember to remove punctuation first.\n",
    "\n",
    "sentence1 = \"Hi all, my name is Tom...I am originally from Australia.\"\n",
    "sentence2 = \"I need to work very hard to learn more about algorithms in Python!\"\n",
    "\n",
    "import re\n",
    "def avglen(sent):\n",
    "    sent = re.sub(r'[,.!]','',sent)\n",
    "    return sum([len(word) for word in sent.split()])/len(sent.split())\n",
    "avglen(sentence2)"
   ]
  },
  {
   "cell_type": "code",
   "execution_count": 41,
   "metadata": {},
   "outputs": [
    {
     "name": "stdout",
     "output_type": "stream",
     "text": [
      "2200\n",
      "2200\n"
     ]
    }
   ],
   "source": [
    "# Given two non-negative integers num1 and num2 represented as string, return the sum of num1 and num2.\n",
    "# You must not use any built-in BigInteger library or convert the inputs to integer directly.\n",
    "\n",
    "#Notes:\n",
    "#Both num1 and num2 contains only digits 0-9.\n",
    "#Both num1 and num2 does not contain any leading zero.\n",
    "\n",
    "def sumstring(num1,num2):\n",
    "    return str(eval(num1)+eval(num2))\n",
    "\n",
    "def getint(strnum):\n",
    "    n=0\n",
    "    for idx,x in enumerate(strnum):\n",
    "        if (len(strnum)-1-idx != 0):\n",
    "            n += (ord(x)-ord('0')) * 10 ** (len(strnum)-1-idx)\n",
    "        else:\n",
    "            n += (ord(x)-ord('0'))\n",
    "    return n\n",
    "    \n",
    "num1 = '364'\n",
    "num2 = '1836'\n",
    "print(sumstring(num1,num2))\n",
    "print(str(getint(num2)+getint(num1)))\n"
   ]
  },
  {
   "cell_type": "code",
   "execution_count": 61,
   "metadata": {},
   "outputs": [
    {
     "name": "stdout",
     "output_type": "stream",
     "text": [
      "1\n",
      "1\n"
     ]
    }
   ],
   "source": [
    "# Given a string, find the first non-repeating character in it and return its index. \n",
    "# If it doesn't exist, return -1. # Note: all the input strings are already lowercase.\n",
    "string = 'crunchy'\n",
    "for idx,x in enumerate(string):\n",
    "    if x not in string[idx+1:]:\n",
    "        print(idx)\n",
    "        break\n",
    "else:\n",
    "    print(-1)\n",
    "\n",
    "from collections import Counter\n",
    "ct = Counter(string)\n",
    "print(string.index([k for k,v in ct.items() if v==1][0]))\n",
    "\n"
   ]
  },
  {
   "cell_type": "code",
   "execution_count": 67,
   "metadata": {},
   "outputs": [
    {
     "name": "stdout",
     "output_type": "stream",
     "text": [
      "adkar\n",
      "rdkar\n",
      "rakar\n",
      "True\n"
     ]
    }
   ],
   "source": [
    "# Given a non-empty string s, you may delete at most one character. Judge whether you can make it a palindrome.\n",
    "# The string will only contain lowercase characters a-z.\n",
    "# palindrome : reverse is same as actual one\n",
    "string = 'radkar'\n",
    "if(string == string[::-1]):\n",
    "        print('True')\n",
    "else:\n",
    "    for idx,x in enumerate(string):\n",
    "        tempstring = string[:idx] + string[idx+1:]\n",
    "        print(tempstring)\n",
    "        if(tempstring == tempstring[::-1]):\n",
    "            print('True')\n",
    "            break\n",
    "    else:\n",
    "        print('False')\n"
   ]
  },
  {
   "cell_type": "code",
   "execution_count": 73,
   "metadata": {},
   "outputs": [
    {
     "name": "stdout",
     "output_type": "stream",
     "text": [
      "True\n"
     ]
    }
   ],
   "source": [
    "# Given an array of integers, determine whether the array is monotonic or not.\n",
    "a = [6, 5, 4, 4] \n",
    "a = [1,1,1,3,3,4,3,2,4,2]\n",
    "a = [1,1,2,3,7]\n",
    "print( all([a[i]>=a[i+1] for i in range(len(a)-1)]) | all([a[i]<=a[i+1] for i in range(len(a)-1)]))"
   ]
  },
  {
   "cell_type": "code",
   "execution_count": 93,
   "metadata": {},
   "outputs": [
    {
     "name": "stdout",
     "output_type": "stream",
     "text": [
      "[1, 3, 12, 0, 0]\n"
     ]
    }
   ],
   "source": [
    "#Given an array nums, write a function to move all zeroes to the end of it while maintaining the relative order of \n",
    "#the non-zero elements.\n",
    "\n",
    "array1 = [0,1,0,3,12]\n",
    "array2 = [1,7,0,0,8,0,10,12,0,4]\n",
    "\n",
    "for num in array1:\n",
    "    if 0 in array1:\n",
    "        array1.remove(0)\n",
    "        array1.append(0)\n",
    "print(array1)"
   ]
  },
  {
   "cell_type": "code",
   "execution_count": 108,
   "metadata": {},
   "outputs": [
    {
     "name": "stdout",
     "output_type": "stream",
     "text": [
      "[None, 1, 1, 2, 3, 3, 3, 5, 5]\n"
     ]
    }
   ],
   "source": [
    "# Given an array containing None values fill in the None values with most recent \n",
    "# non None value in the array \n",
    "array1 = [None,1,None,2,3,None,None,5,None]\n",
    "res=[]\n",
    "for idx,x in enumerate(array1):\n",
    "    if x != None:\n",
    "        res.append(x)\n",
    "    else:\n",
    "        if( len(res)>0):\n",
    "            res.append(res[idx-1])\n",
    "        else:\n",
    "            res.append(None)\n",
    "print(res)"
   ]
  },
  {
   "cell_type": "code",
   "execution_count": 112,
   "metadata": {},
   "outputs": [
    {
     "name": "stdout",
     "output_type": "stream",
     "text": [
      "['storm', 'you', 'meet', 'our', 'pleased', 'by', 'We', 'to', 'are', 'was', 'a', 'heavy', 'hit', 'in', 'The']\n",
      "['city', 'really']\n"
     ]
    }
   ],
   "source": [
    "#Given two sentences, return an array that has the words that appear in one sentence and not\n",
    "#the other and an array with the words in common. \n",
    "\n",
    "sentence1 = 'We are really pleased to meet you in our city'\n",
    "sentence2 = 'The city was hit by a really heavy storm'\n",
    "print(list(set(sentence1.split())^set(sentence2.split())))\n",
    "print(list(set(sentence1.split())&set(sentence2.split())))"
   ]
  },
  {
   "cell_type": "code",
   "execution_count": 128,
   "metadata": {},
   "outputs": [
    {
     "name": "stdout",
     "output_type": "stream",
     "text": [
      "2\n",
      "3\n",
      "5\n",
      "7\n"
     ]
    }
   ],
   "source": [
    "# Given k numbers which are less than n, return the set of prime number among them\n",
    "# Note: The task is to write a program to print all Prime numbers in an Interval.\n",
    "# Definition: A prime number is a natural number greater than 1 that has no positive divisors other than 1 and itself. \n",
    "\n",
    "n = 35\n",
    "def printprimes(k):\n",
    "    for x in range(1,k):\n",
    "        if x > 1:\n",
    "            for y in range(2,x):\n",
    "                if x%y ==0:\n",
    "                    break\n",
    "            else:\n",
    "                print(x)\n",
    "        \n",
    "def newprime(k):\n",
    "    if k>=2:\n",
    "        for x in range(1,k):\n",
    "            if x>1:\n",
    "                if k%x ==0:\n",
    "                    break\n",
    "        else:\n",
    "            print(k)\n",
    "        newprime(k-1)\n",
    "\n",
    "printprimes(10)"
   ]
  },
  {
   "cell_type": "code",
   "execution_count": null,
   "metadata": {},
   "outputs": [],
   "source": []
  }
 ],
 "metadata": {
  "kernelspec": {
   "display_name": "Python 3",
   "language": "python",
   "name": "python3"
  },
  "language_info": {
   "codemirror_mode": {
    "name": "ipython",
    "version": 3
   },
   "file_extension": ".py",
   "mimetype": "text/x-python",
   "name": "python",
   "nbconvert_exporter": "python",
   "pygments_lexer": "ipython3",
   "version": "3.6.10"
  }
 },
 "nbformat": 4,
 "nbformat_minor": 4
}
